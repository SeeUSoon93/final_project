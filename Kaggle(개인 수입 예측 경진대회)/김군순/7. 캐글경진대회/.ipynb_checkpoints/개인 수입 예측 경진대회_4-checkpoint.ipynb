{
 "cells": [
  {
   "cell_type": "code",
   "execution_count": 1,
   "id": "067c0322",
   "metadata": {},
   "outputs": [],
   "source": [
    "# 사용할 라이브러리 불러오기\n",
    "import numpy as np\n",
    "import pandas as pd\n",
    "import matplotlib.pyplot as plt\n",
    "import seaborn as sns\n",
    "\n",
    "# 시각화 전 기본 세팅\n",
    "#한글 깨짐\n",
    "plt.rc(\"font\", family=\"Malgun Gothic\")"
   ]
  },
  {
   "cell_type": "code",
   "execution_count": 2,
   "id": "b178864b",
   "metadata": {},
   "outputs": [],
   "source": [
    "# 파일 불러오기\n",
    "sample_submission = pd.read_csv('data/sample_submission.csv', index_col='no')\n",
    "test = pd.read_csv('data/test.csv', index_col='no')\n",
    "train = pd.read_csv('data/train.csv', index_col='no')"
   ]
  },
  {
   "cell_type": "markdown",
   "id": "6ea978e4",
   "metadata": {},
   "source": [
    "## 예측할 값 : 개인 소득\n",
    "- income : 50K 초과는 1, 50K 이하는 0 (소득)"
   ]
  },
  {
   "cell_type": "markdown",
   "id": "2bc66511",
   "metadata": {},
   "source": [
    "### 컬럼 의미\n",
    "- age - continuous.\n",
    "- workclass(일 유형) : Private, Self-emp-not-inc, Self-emp-inc, Federal-gov, Local-gov, State-gov, Without-pay, Never-worked.\n",
    "- fnlwgt(일련의 관측 결과를 바탕으로 인구조사국이 부여하는 개인의 가중치): continuous.\n",
    "- education(교육수준) : Bachelors, Some-college, 11th, HS-grad, Prof-school, Assoc-acdm, Assoc-voc, 9th, 7th-8th, 12th, Masters, 1st-4th, 10th, Doctorate, 5th-6th, Preschool.\n",
    "- education-num(교육수준 번호) : continuous.\n",
    "- marital-status(결혼 상태) : Married-civ-spouse, Divorced, Never-married, Separated, Widowed, Married-spouse-absent, Married-AF-spouse.\n",
    "- occupation(직업) : Tech-support, Craft-repair, Other-service, Sales, Exec-managerial, Prof-specialty, Handlers-cleaners, Machine-op-inspct, Adm-clerical, Farming-fishing, Transport-moving, Priv-house-serv, Protective-serv, Armed-Forces.\n",
    "- relationship(가족관계) : Wife, Own-child, Husband, Not-in-family, Other-relative, Unmarried.\n",
    "- race(인종) : White, Asian-Pac-Islander, Amer-Indian-Eskimo, Other, Black.\n",
    "- sex(성별) : Female, Male.\n",
    "- capital-gain(자본 이익) : continuous.\n",
    "- capital-loss(자본 손실) : continuous.\n",
    "- hours-per-week(주당 근무 시간) : continuous.\n",
    "- native-country(국적) : United-States, Cambodia, England, Puerto-Rico, Canada, Germany, Outlying-US(Guam-USVI-etc), India, Japan, Greece, South, China, Cuba, Iran, Honduras, Philippines, Italy, Poland, Jamaica, Vietnam, Mexico, Portugal, Ireland, France, Dominican-Republic, Laos, Ecuador, Taiwan, Haiti, Columbia, Hungary, Guatemala, Nicaragua, Scotland, Thailand, Yugoslavia, El-Salvador, Trinadad&Tobago, Peru, Hong, Holand-Netherlands."
   ]
  },
  {
   "cell_type": "markdown",
   "id": "ee20e888",
   "metadata": {},
   "source": [
    "### value값 띄어쓰기 제거"
   ]
  },
  {
   "cell_type": "code",
   "execution_count": 3,
   "id": "f264a463",
   "metadata": {},
   "outputs": [],
   "source": [
    "# 띄어쓰기 제거함\n",
    "for i in train.columns : \n",
    "    if train[f'{i}'].dtype == 'object' :\n",
    "        train[f'{i}'] = train[f'{i}'].apply(lambda x: x.replace(' ', '')) # 제거하는 함수\n",
    "    else :\n",
    "        train[f'{i}'] = train[f'{i}']\n",
    "        \n",
    "for i in test.columns : \n",
    "    if test[f'{i}'].dtype == 'object' :\n",
    "        test[f'{i}'] = test[f'{i}'].apply(lambda x: x.replace(' ', '')) # 제거하는 함수\n",
    "    else :\n",
    "        test[f'{i}'] = test[f'{i}']"
   ]
  },
  {
   "cell_type": "code",
   "execution_count": 4,
   "id": "91cb8e53",
   "metadata": {},
   "outputs": [],
   "source": [
    "title=['Private', 'Self-emp-not-inc', 'Local-gov', '?',\n",
    "       'State-gov', 'Self-emp-inc','Federal-gov','Without-pay','Never-worked']\n",
    "cover_title=['Private', 'Self-emp-not-inc', 'Local-gov', 'Private',\n",
    "       'State-gov', 'Self-emp-inc','Federal-gov','Without-pay','Never-worked']\n",
    "title_dict = dict(zip(title, cover_title))\n",
    "title_dict\n",
    "train['workclass'] = train['workclass'].map(title_dict)\n",
    "\n",
    "title=['?', 'Private', 'Self-emp-not-inc', 'Local-gov', 'Self-emp-inc',\n",
    "       'State-gov', 'Federal-gov', 'Without-pay', 'Never-worked']\n",
    "cover_title=['Private', 'Private', 'Self-emp-not-inc', 'Local-gov', 'Self-emp-inc',\n",
    "       'State-gov', 'Federal-gov', 'Without-pay', 'Never-worked']\n",
    "title_dict = dict(zip(title, cover_title))\n",
    "title_dict\n",
    "test['workclass'] =test['workclass'].map(title_dict)"
   ]
  },
  {
   "cell_type": "code",
   "execution_count": 5,
   "id": "88bd1491",
   "metadata": {},
   "outputs": [],
   "source": [
    "title=['United-States', 'Haiti', 'Mexico', 'Puerto-Rico', 'Philippines',\n",
    "       '?', 'Germany', 'Peru', 'Ecuador', 'Iran', 'Thailand',\n",
    "       'Dominican-Republic', 'Poland', 'Scotland', 'Italy', 'Jamaica',\n",
    "       'China', 'Portugal', 'Columbia', 'Hungary', 'Vietnam', 'Taiwan',\n",
    "       'Canada', 'Hong', 'Guatemala', 'El-Salvador', 'England',\n",
    "       'Outlying-US(Guam-USVI-etc)', 'India', 'France', 'Cuba', 'Greece',\n",
    "       'Trinadad&Tobago', 'South', 'Japan', 'Yugoslavia', 'Nicaragua',\n",
    "       'Ireland', 'Cambodia', 'Laos', 'Honduras', 'Holand-Netherlands']\n",
    "cover_title=['United-States', 'Haiti', 'Mexico', 'Puerto-Rico', 'Philippines',\n",
    "       'United-States', 'Germany', 'Peru', 'Ecuador', 'Iran', 'Thailand',\n",
    "       'Dominican-Republic', 'Poland', 'Scotland', 'Italy', 'Jamaica',\n",
    "       'China', 'Portugal', 'Columbia', 'Hungary', 'Vietnam', 'Taiwan',\n",
    "       'Canada', 'Hong', 'Guatemala', 'El-Salvador', 'England',\n",
    "       'Outlying-US(Guam-USVI-etc)', 'India', 'France', 'Cuba', 'Greece',\n",
    "       'Trinadad&Tobago', 'South', 'Japan', 'Yugoslavia', 'Nicaragua',\n",
    "       'Ireland', 'Cambodia', 'Laos', 'Honduras', 'Holand-Netherlands']\n",
    "title_dict = dict(zip(title, cover_title))\n",
    "title_dict\n",
    "train['native-country'] = train['native-country'].map(title_dict)\n",
    "\n",
    "title=['United-States', 'Puerto-Rico', 'Portugal', '?', 'El-Salvador',\n",
    "       'Iran', 'India', 'Philippines', 'Vietnam', 'Cuba', 'Italy',\n",
    "       'Hungary', 'Jamaica', 'Germany', 'Mexico', 'England', 'Columbia',\n",
    "       'China', 'Nicaragua', 'Taiwan', 'Scotland', 'Ireland', 'Poland',\n",
    "       'South', 'France', 'Guatemala', 'Japan', 'Canada', 'Ecuador',\n",
    "       'Dominican-Republic', 'Yugoslavia', 'Haiti', 'Greece',\n",
    "       'Outlying-US(Guam-USVI-etc)', 'Laos', 'Trinadad&Tobago',\n",
    "       'Thailand', 'Peru', 'Honduras', 'Hong', 'Cambodia']\n",
    "cover_title=['United-States', 'Puerto-Rico', 'Portugal', 'United-States', 'El-Salvador',\n",
    "       'Iran', 'India', 'Philippines', 'Vietnam', 'Cuba', 'Italy',\n",
    "       'Hungary', 'Jamaica', 'Germany', 'Mexico', 'England', 'Columbia',\n",
    "       'China', 'Nicaragua', 'Taiwan', 'Scotland', 'Ireland', 'Poland',\n",
    "       'South', 'France', 'Guatemala', 'Japan', 'Canada', 'Ecuador',\n",
    "       'Dominican-Republic', 'Yugoslavia', 'Haiti', 'Greece',\n",
    "       'Outlying-US(Guam-USVI-etc)', 'Laos', 'Trinadad&Tobago',\n",
    "       'Thailand', 'Peru', 'Honduras', 'Hong', 'Cambodia']\n",
    "title_dict = dict(zip(title, cover_title))\n",
    "title_dict\n",
    "test['native-country'] = test['native-country'].map(title_dict)"
   ]
  },
  {
   "cell_type": "code",
   "execution_count": 6,
   "id": "69e1fa92",
   "metadata": {},
   "outputs": [],
   "source": [
    "title=['Machine-op-inspct', 'Other-service', 'Handlers-cleaners',\n",
    "       'Tech-support', 'Transport-moving', 'Farming-fishing',\n",
    "       'Prof-specialty', 'Priv-house-serv', 'Adm-clerical',\n",
    "       'Protective-serv', 'Exec-managerial', '?', 'Craft-repair', 'Sales',\n",
    "       'Armed-Forces']\n",
    "cover_title=['Machine-op-inspct', 'Other-service', 'Handlers-cleaners',\n",
    "       'Tech-support', 'Transport-moving', 'Farming-fishing',\n",
    "       'Prof-specialty', 'Priv-house-serv', 'Adm-clerical',\n",
    "       'Protective-serv', 'Exec-managerial', 'Prof-specialty', 'Craft-repair', 'Sales',\n",
    "       'Armed-Forces']\n",
    "title_dict = dict(zip(title, cover_title))\n",
    "title_dict\n",
    "train['occupation'] = train['occupation'].map(title_dict)\n",
    "\n",
    "title=['?', 'Other-service', 'Tech-support', 'Exec-managerial',\n",
    "       'Farming-fishing', 'Sales', 'Adm-clerical', 'Craft-repair',\n",
    "       'Handlers-cleaners', 'Machine-op-inspct', 'Protective-serv',\n",
    "       'Prof-specialty', 'Transport-moving', 'Priv-house-serv',\n",
    "       'Armed-Forces']\n",
    "cover_title=['Prof-specialty', 'Other-service', 'Tech-support', 'Exec-managerial',\n",
    "       'Farming-fishing', 'Sales', 'Adm-clerical', 'Craft-repair',\n",
    "       'Handlers-cleaners', 'Machine-op-inspct', 'Protective-serv',\n",
    "       'Prof-specialty', 'Transport-moving', 'Priv-house-serv',\n",
    "       'Armed-Forces']\n",
    "title_dict = dict(zip(title, cover_title))\n",
    "title_dict\n",
    "test['occupation'] = test['occupation'].map(title_dict)"
   ]
  },
  {
   "cell_type": "code",
   "execution_count": 7,
   "id": "d23ee4c7",
   "metadata": {},
   "outputs": [],
   "source": [
    "train = train.drop('education',axis=1)\n",
    "test = test.drop('education',axis=1)"
   ]
  },
  {
   "cell_type": "code",
   "execution_count": 8,
   "id": "b222557d",
   "metadata": {},
   "outputs": [],
   "source": [
    "marital_status = ['Divorced', 'Never-married', 'Married-civ-spouse', 'Separated',\n",
    "       'Married-spouse-absent', 'Widowed', 'Married-AF-spouse']\n",
    "conver_marital_status = ['not-married', 'not-married', 'married', 'not-married', 'not-married', 'not-married','married']\n",
    "marital_status_dict=dict(zip(marital_status, conver_marital_status))\n",
    "\n",
    "train['marital-status']=train['marital-status'].map(marital_status_dict)\n",
    "test['marital-status']=test['marital-status'].map(marital_status_dict)"
   ]
  },
  {
   "cell_type": "code",
   "execution_count": 9,
   "id": "5ac87835",
   "metadata": {},
   "outputs": [],
   "source": [
    "train['relationship'].unique()\n",
    "title=['Not-in-family', 'Husband', 'Unmarried', 'Other-relative',\n",
    "       'Own-child', 'Wife']\n",
    "cover_title=['Not-in-family', 'Married', 'Unmarried', 'Other-relative',\n",
    "       'Own-child', 'Married']\n",
    "title_dict = dict(zip(title, cover_title))\n",
    "train['relationship'] = train['relationship'].map(title_dict)\n",
    "\n",
    "title=['Own-child', 'Wife', 'Husband', 'Not-in-family', 'Unmarried',\n",
    "       'Other-relative']\n",
    "cover_title=['Own-child', 'Married', 'Married', 'Not-in-family', 'Unmarried',\n",
    "       'Other-relative']\n",
    "title_dict = dict(zip(title, cover_title))\n",
    "test['relationship'] = test['relationship'].map(title_dict)"
   ]
  },
  {
   "cell_type": "code",
   "execution_count": 10,
   "id": "097c56da",
   "metadata": {},
   "outputs": [],
   "source": [
    "#  사회 초년생 - age1 [17~30]\n",
    "age1 = [i for i in range(17, 31)]\n",
    "cover_age1 = ['young'] * (31-17)\n",
    "\n",
    "#  중년층 - age2 [31~50]\n",
    "age2 = [i for i in range(31, 51)]\n",
    "cover_age2 = ['middle'] * (51-31)\n",
    "\n",
    "# 노년층 - age3 [51 ~ 90]\n",
    "age3 = [i for i in range(51, 91)]\n",
    "cover_age3 = ['old'] * (91-51)"
   ]
  },
  {
   "cell_type": "code",
   "execution_count": 11,
   "id": "b76a6fc1",
   "metadata": {},
   "outputs": [],
   "source": [
    "age_dict = dict(zip(age1 + age2 + age3, cover_age1 + cover_age2 + cover_age3))\n",
    "\n",
    "train['age']=train['age'].map(age_dict)\n",
    "test['age']=test['age'].map(age_dict)"
   ]
  },
  {
   "cell_type": "code",
   "execution_count": 12,
   "id": "28bd38d5",
   "metadata": {},
   "outputs": [],
   "source": [
    "title=['Private', 'Self-emp-not-inc', 'Local-gov', 'State-gov',\n",
    "       'Self-emp-inc', 'Federal-gov', 'Without-pay', 'Never-worked']\n",
    "cover_title=['Private', 'Self-emp', 'gov', 'gov',\n",
    "       'Self-emp', 'gov', 'beggar', 'beggar']\n",
    "title_dict = dict(zip(title, cover_title))\n",
    "train['workclass'] = train['workclass'].map(title_dict)\n",
    "\n",
    "title=['Private', 'Self-emp-not-inc', 'Local-gov', 'Self-emp-inc',\n",
    "       'State-gov', 'Federal-gov', 'Without-pay', 'Never-worked']\n",
    "cover_title=['Private', 'Self-emp', 'gov', 'Self-emp',\n",
    "       'gov', 'gov', 'beggar', 'beggar']\n",
    "title_dict = dict(zip(title, cover_title))\n",
    "test['workclass'] = test['workclass'].map(title_dict)"
   ]
  },
  {
   "cell_type": "code",
   "execution_count": 13,
   "id": "45470ef7",
   "metadata": {},
   "outputs": [],
   "source": [
    "native_country = ['United-States', 'Haiti', 'Mexico', 'Puerto-Rico', 'Philippines',\n",
    "       'Germany', 'Peru', 'Ecuador', 'Iran', 'Thailand',\n",
    "       'Dominican-Republic', 'Poland', 'Scotland', 'Italy', 'Jamaica',\n",
    "       'China', 'Columbia', 'Hungary', 'Portugal', 'Vietnam', 'Taiwan',\n",
    "       'Canada', 'Hong', 'Guatemala', 'El-Salvador', 'England',\n",
    "       'Outlying-US(Guam-USVI-etc)', 'India', 'France', 'Cuba', 'Greece',\n",
    "       'Trinadad&Tobago', 'South', 'Japan', 'Yugoslavia', 'Nicaragua',\n",
    "       'Ireland', 'Cambodia', 'Laos', 'Honduras', 'Holand-Netherlands']\n",
    "conver_native_country = ['North America', 'North America', 'Asia', 'Europe', 'North America',\n",
    "                         'North America', 'North America', 'North America', 'Asia', 'Europe',\n",
    "                         'North America', 'Asia', 'Asia', 'North America', 'Europe',\n",
    "                         'Asia', 'South America', 'North America', 'Asia', 'Europe',\n",
    "                        'North America', 'Europe', 'Asia', 'Asia', 'North America',\n",
    "                         'South America', 'Europe', 'Europe', 'South America', 'Asia',\n",
    "                         'Europe', 'Asia', 'North America', 'Asia', 'Europe',\n",
    "                         'Asia', 'South America', 'Europe', 'North America', 'Europe', 'Europe']\n",
    "\n",
    "native_country_dict = dict(zip(native_country, conver_native_country))\n",
    "native_country_dict\n",
    "train['native-country']=train['native-country'].map(native_country_dict)\n",
    "test['native-country']=test['native-country'].map(native_country_dict)"
   ]
  },
  {
   "cell_type": "code",
   "execution_count": 14,
   "id": "2bb09e97",
   "metadata": {},
   "outputs": [],
   "source": [
    "train = train.drop('capital-gain',axis=1)\n",
    "test = test.drop('capital-gain',axis=1)\n",
    "train = train.drop('capital-loss',axis=1)\n",
    "test = test.drop('capital-loss',axis=1)"
   ]
  },
  {
   "cell_type": "markdown",
   "id": "fe2b123c",
   "metadata": {},
   "source": [
    "--"
   ]
  },
  {
   "cell_type": "code",
   "execution_count": 15,
   "id": "85f163ef",
   "metadata": {},
   "outputs": [],
   "source": [
    "# 문제/답 분리\n",
    "X_train = train.loc[:,:'native-country']\n",
    "y_train = train['income']"
   ]
  },
  {
   "cell_type": "code",
   "execution_count": 16,
   "id": "6443dbc7",
   "metadata": {},
   "outputs": [],
   "source": [
    "X_one_hot = pd.get_dummies(X_train) # 0과 1로만 이루어진 열을 생성\n",
    "X_test = pd.get_dummies(test) # 0과 1로만 이루어진 열을 생성"
   ]
  },
  {
   "cell_type": "code",
   "execution_count": 17,
   "id": "de9f2720",
   "metadata": {},
   "outputs": [],
   "source": [
    "from sklearn.neighbors import KNeighborsClassifier\n",
    "from sklearn.tree import DecisionTreeClassifier\n",
    "from sklearn.model_selection import cross_val_score"
   ]
  },
  {
   "cell_type": "code",
   "execution_count": 18,
   "id": "5a311ac4",
   "metadata": {},
   "outputs": [],
   "source": [
    "knn_model = KNeighborsClassifier(n_neighbors=5)\n",
    "knn_model.fit(X_one_hot,y_train)\n",
    "pre = knn_model.predict(X_test)\n",
    "result = pd.read_csv('data/sample_submission.csv')\n",
    "result['income'] = pre\n",
    "result.to_csv('knn_model4.csv', index = False)"
   ]
  },
  {
   "cell_type": "code",
   "execution_count": 19,
   "id": "36e24a46",
   "metadata": {},
   "outputs": [],
   "source": [
    "tree_model = DecisionTreeClassifier(max_depth=5)\n",
    "tree_model.fit(X_one_hot,y_train)\n",
    "pre = tree_model.predict(X_test)\n",
    "result = pd.read_csv('data/sample_submission.csv')\n",
    "result['income'] = pre\n",
    "result.to_csv('tree_model4.csv', index = False)"
   ]
  },
  {
   "cell_type": "code",
   "execution_count": null,
   "id": "7d87c176",
   "metadata": {},
   "outputs": [],
   "source": [
    "from sklearn.preprocessing import MinMaxScaler\n",
    "X_train= X_one_hot\n",
    "mm_scaler = MinMaxScaler()\n",
    "mm_scaler.fit(X_train)\n",
    "mm_transform_X_train = mm_scaler.transform(X_train)\n",
    "mm_transform_X_train = pd.DataFrame(mm_transform_X_train, columns=X_train.columns)\n",
    "mm_transform_X_test = mm_scaler.transform(X_test)\n",
    "mm_transform_X_test = pd.DataFrame(mm_transform_X_test, columns=X_test.columns)\n",
    "knn_model.fit(mm_transform_X_train,y_train)\n",
    "pre = knn_model.predict(mm_transform_X_test)\n",
    "result = pd.read_csv('data/sample_submission.csv')\n",
    "result['income'] = pre\n",
    "result.to_csv('knn_model_mm4.csv', index = False)"
   ]
  },
  {
   "cell_type": "code",
   "execution_count": null,
   "id": "21957703",
   "metadata": {},
   "outputs": [],
   "source": [
    "from sklearn.ensemble import VotingClassifier\n",
    "from sklearn.ensemble import RandomForestClassifier\n",
    "from sklearn.ensemble import AdaBoostClassifier"
   ]
  },
  {
   "cell_type": "code",
   "execution_count": null,
   "id": "ad7c8cac",
   "metadata": {},
   "outputs": [],
   "source": [
    "# 랜덤포레스트 모델 생성\n",
    "rf_model = RandomForestClassifier(n_estimators=1000,  # 결정트리의 개수\n",
    "                                 max_depth=5,         # 트리의 최대 깊이\n",
    "                                 min_samples_leaf=15, # 리프노드가 되기 위한 최소한의 샘플 데이터 수\n",
    "                                 max_leaf_nodes=50)   # 리프노드의 최대 개수\n",
    "# 학습\n",
    "rf_model.fit(X_train, y_train)\n",
    "# 예측\n",
    "pre = rf_model.predict(X_test)\n",
    "result = pd.read_csv('data/sample_submission.csv')\n",
    "result['income'] = pre\n",
    "result.to_csv('rf_model4.csv', index = False)"
   ]
  },
  {
   "cell_type": "code",
   "execution_count": null,
   "id": "81cb4c40",
   "metadata": {},
   "outputs": [],
   "source": [
    "# 모델 생성\n",
    "knn_model = KNeighborsClassifier(n_neighbors=5)\n",
    "tree_model = DecisionTreeClassifier(max_depth=5)\n",
    "forest_model = RandomForestClassifier(n_estimators=1000,\n",
    "                                 max_depth=5,         \n",
    "                                 min_samples_leaf=15,\n",
    "                                 max_leaf_nodes=50)\n",
    "knn_model.fit(mm_transform_X_train,y_train)\n",
    "tree_model.fit(X_train,y_train)\n",
    "forest_model.fit(X_train, y_train)\n",
    "voting_model = VotingClassifier(\n",
    "                    estimators=[\n",
    "                        ('knn',knn_model),\n",
    "                        ('tree',tree_model),\n",
    "                        ('forest',forest_model)\n",
    "                    ],\n",
    "                    voting='soft'\n",
    "                )\n",
    "# 학습\n",
    "voting_model.fit(X_train,y_train)\n",
    "# 예측\n",
    "pre = voting_model.predict(X_test)\n",
    "# 정답제출\n",
    "result = pd.read_csv('data/sample_submission.csv')\n",
    "result['income'] = pre\n",
    "result.to_csv('voting_model4.csv', index = False)"
   ]
  },
  {
   "cell_type": "code",
   "execution_count": null,
   "id": "38f9bdea",
   "metadata": {},
   "outputs": [],
   "source": [
    "# AdaBoost모델생성\n",
    "Ada_model = AdaBoostClassifier(n_estimators=100)\n",
    "# 학습\n",
    "Ada_model.fit(X_train,y_train)\n",
    "# 예측\n",
    "pre = Ada_model.predict(X_test)\n",
    "# 정답제출\n",
    "result = pd.read_csv('data/sample_submission.csv')\n",
    "result['income'] = pre\n",
    "result.to_csv('ada_model4.csv', index = False)"
   ]
  },
  {
   "cell_type": "code",
   "execution_count": null,
   "id": "5b321d9c",
   "metadata": {},
   "outputs": [],
   "source": [
    "# 모델 생성\n",
    "final_rf_model = RandomForestClassifier(max_depth=20,\n",
    "                                        max_leaf_nodes=80,\n",
    "                                        min_samples_leaf=10,\n",
    "                                        n_estimators=1500)\n",
    "final_rf_model.fit(X_train, y_train)\n",
    "pre = final_rf_model.predict(X_test)\n",
    "# 정답제출\n",
    "result = pd.read_csv('data/sample_submission.csv')\n",
    "result['income'] = pre\n",
    "result.to_csv('final_rf_model4.csv', index = False)"
   ]
  },
  {
   "cell_type": "code",
   "execution_count": null,
   "id": "d6e83855",
   "metadata": {},
   "outputs": [],
   "source": []
  }
 ],
 "metadata": {
  "kernelspec": {
   "display_name": "Python 3 (ipykernel)",
   "language": "python",
   "name": "python3"
  },
  "language_info": {
   "codemirror_mode": {
    "name": "ipython",
    "version": 3
   },
   "file_extension": ".py",
   "mimetype": "text/x-python",
   "name": "python",
   "nbconvert_exporter": "python",
   "pygments_lexer": "ipython3",
   "version": "3.11.4"
  }
 },
 "nbformat": 4,
 "nbformat_minor": 5
}
