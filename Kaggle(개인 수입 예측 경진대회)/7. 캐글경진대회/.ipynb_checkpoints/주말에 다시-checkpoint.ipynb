{
 "cells": [
  {
   "cell_type": "code",
   "execution_count": 1,
   "id": "06995db5",
   "metadata": {},
   "outputs": [],
   "source": [
    "# 사용할 라이브러리 불러오기\n",
    "import numpy as np\n",
    "import pandas as pd\n",
    "import matplotlib.pyplot as plt\n",
    "import seaborn as sns\n",
    "\n",
    "# 시각화 전 기본 세팅\n",
    "#한글 깨짐\n",
    "plt.rc(\"font\", family=\"Malgun Gothic\")"
   ]
  },
  {
   "cell_type": "code",
   "execution_count": 2,
   "id": "70238acc",
   "metadata": {},
   "outputs": [],
   "source": [
    "# 파일 불러오기\n",
    "train = pd.read_csv('data/train.csv', index_col='no')\n",
    "test = pd.read_csv('data/test.csv', index_col='no')"
   ]
  },
  {
   "cell_type": "markdown",
   "id": "de3b2b80",
   "metadata": {},
   "source": [
    "### 컬럼 의미\n",
    "- age - continuous.\n",
    "- workclass(일 유형) : Private, Self-emp-not-inc, Self-emp-inc, Federal-gov, Local-gov, State-gov, Without-pay, Never-worked.\n",
    "- fnlwgt(일련의 관측 결과를 바탕으로 인구조사국이 부여하는 개인의 가중치): continuous.\n",
    "- education(교육수준) : Bachelors, Some-college, 11th, HS-grad, Prof-school, Assoc-acdm, Assoc-voc, 9th, 7th-8th, 12th, Masters, 1st-4th, 10th, Doctorate, 5th-6th, Preschool.\n",
    "- education-num(교육수준 번호) : continuous.\n",
    "- marital-status(결혼 상태) : Married-civ-spouse, Divorced, Never-married, Separated, Widowed, Married-spouse-absent, Married-AF-spouse.\n",
    "- occupation(직업) : Tech-support, Craft-repair, Other-service, Sales, Exec-managerial, Prof-specialty, Handlers-cleaners, Machine-op-inspct, Adm-clerical, Farming-fishing, Transport-moving, Priv-house-serv, Protective-serv, Armed-Forces.\n",
    "- relationship(가족관계) : Wife, Own-child, Husband, Not-in-family, Other-relative, Unmarried.\n",
    "- race(인종) : White, Asian-Pac-Islander, Amer-Indian-Eskimo, Other, Black.\n",
    "- sex(성별) : Female, Male.\n",
    "- capital-gain(자본 이익) : continuous.\n",
    "- capital-loss(자본 손실) : continuous.\n",
    "- hours-per-week(주당 근무 시간) : continuous.\n",
    "- native-country(국적) : United-States, Cambodia, England, Puerto-Rico, Canada, Germany, Outlying-US(Guam-USVI-etc), India, Japan, Greece, South, China, Cuba, Iran, Honduras, Philippines, Italy, Poland, Jamaica, Vietnam, Mexico, Portugal, Ireland, France, Dominican-Republic, Laos, Ecuador, Taiwan, Haiti, Columbia, Hungary, Guatemala, Nicaragua, Scotland, Thailand, Yugoslavia, El-Salvador, Trinadad&Tobago, Peru, Hong, Holand-Netherlands."
   ]
  },
  {
   "cell_type": "markdown",
   "id": "d10d7c56",
   "metadata": {},
   "source": [
    "- value 띄어쓰기 제거"
   ]
  },
  {
   "cell_type": "code",
   "execution_count": 3,
   "id": "0cc56f85",
   "metadata": {},
   "outputs": [],
   "source": [
    "# 띄어쓰기 제거함\n",
    "for i in train.columns : \n",
    "    if train[f'{i}'].dtype == 'object' :\n",
    "        train[f'{i}'] = train[f'{i}'].apply(lambda x: x.replace(' ', '')) # 제거하는 함수\n",
    "    else :\n",
    "        train[f'{i}'] = train[f'{i}']\n",
    "        \n",
    "for i in test.columns : \n",
    "    if test[f'{i}'].dtype == 'object' :\n",
    "        test[f'{i}'] = test[f'{i}'].apply(lambda x: x.replace(' ', '')) # 제거하는 함수\n",
    "    else :\n",
    "        test[f'{i}'] = test[f'{i}']"
   ]
  },
  {
   "cell_type": "markdown",
   "id": "a46fa4ff",
   "metadata": {},
   "source": [
    "- 물음표는 어쩌냐"
   ]
  },
  {
   "cell_type": "code",
   "execution_count": 4,
   "id": "a6cd05ce",
   "metadata": {},
   "outputs": [],
   "source": [
    "title=['Private', 'Self-emp-not-inc', 'Local-gov', '?',\n",
    "       'State-gov', 'Self-emp-inc','Federal-gov','Without-pay','Never-worked']\n",
    "cover_title=['Private', 'Self-emp-not-inc', 'Local-gov', 'Never-worked',\n",
    "       'State-gov', 'Self-emp-inc','Federal-gov','Without-pay','Never-worked']\n",
    "title_dict = dict(zip(title, cover_title))\n",
    "\n",
    "train['workclass'] = train['workclass'].map(title_dict)\n",
    "test['workclass'] =test['workclass'].map(title_dict)"
   ]
  },
  {
   "cell_type": "code",
   "execution_count": 5,
   "id": "b27146f4",
   "metadata": {},
   "outputs": [
    {
     "data": {
      "text/plain": [
       "\"title=['United-States', 'Haiti', 'Mexico', 'Puerto-Rico', 'Philippines',\\n       '?', 'Germany', 'Peru', 'Ecuador', 'Iran', 'Thailand',\\n       'Dominican-Republic', 'Poland', 'Scotland', 'Italy', 'Jamaica',\\n       'China', 'Portugal', 'Columbia', 'Hungary', 'Vietnam', 'Taiwan',\\n       'Canada', 'Hong', 'Guatemala', 'El-Salvador', 'England',\\n       'Outlying-US(Guam-USVI-etc)', 'India', 'France', 'Cuba', 'Greece',\\n       'Trinadad&Tobago', 'South', 'Japan', 'Yugoslavia', 'Nicaragua',\\n       'Ireland', 'Cambodia', 'Laos', 'Honduras', 'Holand-Netherlands']\\ncover_title=['United-States', 'Haiti', 'Mexico', 'Puerto-Rico', 'Philippines',\\n       'United-States', 'Germany', 'Peru', 'Ecuador', 'Iran', 'Thailand',\\n       'Dominican-Republic', 'Poland', 'Scotland', 'Italy', 'Jamaica',\\n       'China', 'Portugal', 'Columbia', 'Hungary', 'Vietnam', 'Taiwan',\\n       'Canada', 'Hong', 'Guatemala', 'El-Salvador', 'England',\\n       'Outlying-US(Guam-USVI-etc)', 'India', 'France', 'Cuba', 'Greece',\\n       'Trinadad&Tobago', 'South', 'Japan', 'Yugoslavia', 'Nicaragua',\\n       'Ireland', 'Cambodia', 'Laos', 'Honduras', 'Holand-Netherlands']\\ntitle_dict = dict(zip(title, cover_title))\\n\\ntrain['native-country'] = train['native-country'].map(title_dict)\\ntest['native-country'] = test['native-country'].map(title_dict)\""
      ]
     },
     "execution_count": 5,
     "metadata": {},
     "output_type": "execute_result"
    }
   ],
   "source": [
    "\"\"\"title=['United-States', 'Haiti', 'Mexico', 'Puerto-Rico', 'Philippines',\n",
    "       '?', 'Germany', 'Peru', 'Ecuador', 'Iran', 'Thailand',\n",
    "       'Dominican-Republic', 'Poland', 'Scotland', 'Italy', 'Jamaica',\n",
    "       'China', 'Portugal', 'Columbia', 'Hungary', 'Vietnam', 'Taiwan',\n",
    "       'Canada', 'Hong', 'Guatemala', 'El-Salvador', 'England',\n",
    "       'Outlying-US(Guam-USVI-etc)', 'India', 'France', 'Cuba', 'Greece',\n",
    "       'Trinadad&Tobago', 'South', 'Japan', 'Yugoslavia', 'Nicaragua',\n",
    "       'Ireland', 'Cambodia', 'Laos', 'Honduras', 'Holand-Netherlands']\n",
    "cover_title=['United-States', 'Haiti', 'Mexico', 'Puerto-Rico', 'Philippines',\n",
    "       'United-States', 'Germany', 'Peru', 'Ecuador', 'Iran', 'Thailand',\n",
    "       'Dominican-Republic', 'Poland', 'Scotland', 'Italy', 'Jamaica',\n",
    "       'China', 'Portugal', 'Columbia', 'Hungary', 'Vietnam', 'Taiwan',\n",
    "       'Canada', 'Hong', 'Guatemala', 'El-Salvador', 'England',\n",
    "       'Outlying-US(Guam-USVI-etc)', 'India', 'France', 'Cuba', 'Greece',\n",
    "       'Trinadad&Tobago', 'South', 'Japan', 'Yugoslavia', 'Nicaragua',\n",
    "       'Ireland', 'Cambodia', 'Laos', 'Honduras', 'Holand-Netherlands']\n",
    "title_dict = dict(zip(title, cover_title))\n",
    "\n",
    "train['native-country'] = train['native-country'].map(title_dict)\n",
    "test['native-country'] = test['native-country'].map(title_dict)\"\"\""
   ]
  },
  {
   "cell_type": "code",
   "execution_count": 6,
   "id": "5145fcdb",
   "metadata": {},
   "outputs": [
    {
     "data": {
      "text/plain": [
       "\"title=['Machine-op-inspct', 'Other-service', 'Handlers-cleaners',\\n       'Tech-support', 'Transport-moving', 'Farming-fishing',\\n       'Prof-specialty', 'Priv-house-serv', 'Adm-clerical',\\n       'Protective-serv', 'Exec-managerial', '?', 'Craft-repair', 'Sales',\\n       'Armed-Forces']\\ncover_title=['Machine-op-inspct', 'Other-service', 'Handlers-cleaners',\\n       'Tech-support', 'Transport-moving', 'Farming-fishing',\\n       'Prof-specialty', 'Priv-house-serv', 'Adm-clerical',\\n       'Protective-serv', 'Exec-managerial', 'Prof-specialty', 'Craft-repair', 'Sales',\\n       'Armed-Forces']\\ntitle_dict = dict(zip(title, cover_title))\\n\\ntrain['occupation'] = train['occupation'].map(title_dict)\\ntest['occupation'] = test['occupation'].map(title_dict)\""
      ]
     },
     "execution_count": 6,
     "metadata": {},
     "output_type": "execute_result"
    }
   ],
   "source": [
    "\"\"\"title=['Machine-op-inspct', 'Other-service', 'Handlers-cleaners',\n",
    "       'Tech-support', 'Transport-moving', 'Farming-fishing',\n",
    "       'Prof-specialty', 'Priv-house-serv', 'Adm-clerical',\n",
    "       'Protective-serv', 'Exec-managerial', '?', 'Craft-repair', 'Sales',\n",
    "       'Armed-Forces']\n",
    "cover_title=['Machine-op-inspct', 'Other-service', 'Handlers-cleaners',\n",
    "       'Tech-support', 'Transport-moving', 'Farming-fishing',\n",
    "       'Prof-specialty', 'Priv-house-serv', 'Adm-clerical',\n",
    "       'Protective-serv', 'Exec-managerial', 'Prof-specialty', 'Craft-repair', 'Sales',\n",
    "       'Armed-Forces']\n",
    "title_dict = dict(zip(title, cover_title))\n",
    "\n",
    "train['occupation'] = train['occupation'].map(title_dict)\n",
    "test['occupation'] = test['occupation'].map(title_dict)\"\"\""
   ]
  },
  {
   "cell_type": "markdown",
   "id": "a9d6ac93",
   "metadata": {},
   "source": [
    "- education과 education-num은 같으므로 education삭제"
   ]
  },
  {
   "cell_type": "code",
   "execution_count": 7,
   "id": "9e84b2c6",
   "metadata": {},
   "outputs": [],
   "source": [
    "train = train.drop('education',axis=1)\n",
    "test = test.drop('education',axis=1)"
   ]
  },
  {
   "cell_type": "markdown",
   "id": "0fdcbc5e",
   "metadata": {},
   "source": [
    "- age 범주화"
   ]
  },
  {
   "cell_type": "code",
   "execution_count": 8,
   "id": "707fe9db",
   "metadata": {},
   "outputs": [
    {
     "data": {
      "image/png": "[encoded data removed]",
      "text/plain": [
       "<Figure size 2000x500 with 1 Axes>"
      ]
     },
     "metadata": {},
     "output_type": "display_data"
    }
   ],
   "source": [
    "plt.figure(figsize=(20,5))\n",
    "sns.violinplot(data=train, x ='age', y='sex', hue='income', split =True)\n",
    "plt.show()"
   ]
  },
  {
   "cell_type": "code",
   "execution_count": 9,
   "id": "be51ec1b",
   "metadata": {},
   "outputs": [],
   "source": [
    "bins = [i for i in range(0, 101,10)]\n",
    "labels = ['age' + str(i) for i in range(0, 100,10)] # 라벨지정\n",
    "train['age'] = pd.cut(train['age'], bins=bins, labels = labels)\n",
    "test['age'] = pd.cut(test['age'], bins=bins, labels=labels)"
   ]
  },
  {
   "cell_type": "markdown",
   "id": "5f5b2227",
   "metadata": {},
   "source": [
    "- workclass 묶기"
   ]
  },
  {
   "cell_type": "code",
   "execution_count": 10,
   "id": "aed8b206",
   "metadata": {},
   "outputs": [
    {
     "data": {
      "text/plain": [
       "\"title=['Private', 'Self-emp-not-inc', 'Local-gov', 'State-gov', 'Self-emp-inc', 'Federal-gov', 'Without-pay', 'Never-worked']\\ncover_title=['Private', 'Self-emp', 'gov', 'gov', 'Self-emp', 'gov', 'beggar', 'beggar']\\ntitle_dict = dict(zip(title, cover_title))\\n\\ntrain['workclass'] = train['workclass'].map(title_dict)\\ntest['workclass'] = test['workclass'].map(title_dict)\""
      ]
     },
     "execution_count": 10,
     "metadata": {},
     "output_type": "execute_result"
    }
   ],
   "source": [
    "\"\"\"title=['Private', 'Self-emp-not-inc', 'Local-gov', 'State-gov', 'Self-emp-inc', 'Federal-gov', 'Without-pay', 'Never-worked']\n",
    "cover_title=['Private', 'Self-emp', 'gov', 'gov', 'Self-emp', 'gov', 'beggar', 'beggar']\n",
    "title_dict = dict(zip(title, cover_title))\n",
    "\n",
    "train['workclass'] = train['workclass'].map(title_dict)\n",
    "test['workclass'] = test['workclass'].map(title_dict)\"\"\""
   ]
  },
  {
   "cell_type": "markdown",
   "id": "28cf3999",
   "metadata": {},
   "source": [
    "- education num 범주화"
   ]
  },
  {
   "cell_type": "code",
   "execution_count": 11,
   "id": "b544eceb",
   "metadata": {},
   "outputs": [
    {
     "data": {
      "text/plain": [
       "\"bins = [0,4,8,12,16]`\\nlabels = ['e1', 'e2', 'e3', 'e4']\\ntrain['education-num'] = pd.cut(train['education-num'], bins=bins, labels = labels)\\ntest['education-num'] = pd.cut(test['education-num'], bins=bins, labels=labels)\""
      ]
     },
     "execution_count": 11,
     "metadata": {},
     "output_type": "execute_result"
    }
   ],
   "source": [
    "\"\"\"bins = [0,4,8,12,16]`\n",
    "labels = ['e1', 'e2', 'e3', 'e4']\n",
    "train['education-num'] = pd.cut(train['education-num'], bins=bins, labels = labels)\n",
    "test['education-num'] = pd.cut(test['education-num'], bins=bins, labels=labels)\"\"\""
   ]
  },
  {
   "cell_type": "markdown",
   "id": "95e25406",
   "metadata": {},
   "source": [
    "- marital-status"
   ]
  },
  {
   "cell_type": "code",
   "execution_count": 12,
   "id": "a375d911",
   "metadata": {},
   "outputs": [],
   "source": [
    "marital_status = ['Divorced', 'Never-married', 'Married-civ-spouse', 'Separated', 'Married-spouse-absent', 'Widowed', 'Married-AF-spouse']\n",
    "conver_marital_status = ['not-married', 'not-married', 'married', 'not-married', 'not-married', 'not-married','not-married']\n",
    "marital_status_dict=dict(zip(marital_status, conver_marital_status))\n",
    "\n",
    "train['marital-status']=train['marital-status'].map(marital_status_dict)\n",
    "test['marital-status']=test['marital-status'].map(marital_status_dict)"
   ]
  },
  {
   "cell_type": "markdown",
   "id": "df55af46",
   "metadata": {},
   "source": [
    "- relationship"
   ]
  },
  {
   "cell_type": "code",
   "execution_count": 13,
   "id": "dd528d7b",
   "metadata": {},
   "outputs": [
    {
     "data": {
      "image/png": "[encoded data removed]",
      "text/plain": [
       "<Figure size 2000x500 with 1 Axes>"
      ]
     },
     "metadata": {},
     "output_type": "display_data"
    }
   ],
   "source": [
    "# occupation\n",
    "plt.figure(figsize=(20,5))\n",
    "sns.countplot(data=train, x='relationship', hue='income')\n",
    "plt.show()"
   ]
  },
  {
   "cell_type": "code",
   "execution_count": 14,
   "id": "381f47a9",
   "metadata": {},
   "outputs": [],
   "source": [
    "train['relationship'].unique()\n",
    "title=['Not-in-family', 'Husband', 'Unmarried', 'Other-relative', 'Own-child', 'Wife']\n",
    "cover_title=['Other', 'Married', 'Unmarried', 'Other', 'Other', 'Married']\n",
    "title_dict = dict(zip(title, cover_title))\n",
    "\n",
    "train['relationship'] = train['relationship'].map(title_dict)\n",
    "test['relationship'] = test['relationship'].map(title_dict)"
   ]
  },
  {
   "cell_type": "markdown",
   "id": "13ba8d28",
   "metadata": {},
   "source": [
    "- capital"
   ]
  },
  {
   "cell_type": "code",
   "execution_count": 15,
   "id": "b5d4863c",
   "metadata": {},
   "outputs": [],
   "source": [
    "# 순자본이익 컬럼 생성\n",
    "train['capital'] = train['capital-gain'] - train['capital-loss']\n",
    "test['capital'] = test['capital-gain'] - test['capital-loss']\n",
    "\n",
    "# gain, loss 컬럼 삭제\n",
    "train.drop('capital-gain',axis=1, inplace=True)\n",
    "train.drop('capital-loss',axis=1, inplace=True)\n",
    "test.drop('capital-gain',axis=1, inplace=True)\n",
    "test.drop('capital-loss',axis=1, inplace=True)"
   ]
  },
  {
   "cell_type": "code",
   "execution_count": 16,
   "id": "2db3e079",
   "metadata": {},
   "outputs": [],
   "source": [
    "# 컬럼순서 바꾸기\n",
    "train= train[['age', 'workclass', 'fnlwgt', 'education-num', 'marital-status',\n",
    "       'occupation', 'relationship', 'race', 'sex', 'hours-per-week',\n",
    "       'native-country', 'capital', 'income']]"
   ]
  },
  {
   "cell_type": "code",
   "execution_count": 17,
   "id": "e4d9306f",
   "metadata": {},
   "outputs": [],
   "source": [
    "bins = [-5000,-1,1,100000] # 범위지정\n",
    "labels = ['-1', '0', '1'] # 라벨지정\n",
    "train['capital'] = pd.cut(train['capital'], bins=bins, labels = labels)\n",
    "test['capital'] = pd.cut(test['capital'], bins=bins, labels=labels)"
   ]
  },
  {
   "cell_type": "markdown",
   "id": "00c715f0",
   "metadata": {},
   "source": [
    "- hour-per-weak"
   ]
  },
  {
   "cell_type": "code",
   "execution_count": 18,
   "id": "13b7c2b1",
   "metadata": {},
   "outputs": [],
   "source": [
    "bins = [i for i in range(0, 101,10)]\n",
    "labels = ['h' + str(i) for i in range(0, 100,10)] # 라벨지정\n",
    "train['hours-per-week'] = pd.cut(train['hours-per-week'], bins=bins, labels = labels)\n",
    "test['hours-per-week'] = pd.cut(test['hours-per-week'], bins=bins, labels=labels)"
   ]
  },
  {
   "cell_type": "markdown",
   "id": "088db013",
   "metadata": {},
   "source": [
    "- native-country"
   ]
  },
  {
   "cell_type": "code",
   "execution_count": 19,
   "id": "c369a428",
   "metadata": {},
   "outputs": [],
   "source": [
    "native_country = ['United-States', 'Haiti', 'Mexico', 'Puerto-Rico', 'Philippines',\n",
    "       'Germany', 'Peru', 'Ecuador', 'Iran', 'Thailand',\n",
    "       'Dominican-Republic', 'Poland', 'Scotland', 'Italy', 'Jamaica',\n",
    "       'China', 'Columbia', 'Hungary', 'Portugal', 'Vietnam', 'Taiwan',\n",
    "       'Canada', 'Hong', 'Guatemala', 'El-Salvador', 'England',\n",
    "       'Outlying-US(Guam-USVI-etc)', 'India', 'France', 'Cuba', 'Greece',\n",
    "       'Trinadad&Tobago', 'South', 'Japan', 'Yugoslavia', 'Nicaragua',\n",
    "       'Ireland', 'Cambodia', 'Laos', 'Honduras', 'Holand-Netherlands']\n",
    "conver_native_country = ['United-States']+['other']*40\n",
    "native_country_dict = dict(zip(native_country, conver_native_country))\n",
    "train['native-country']=train['native-country'].map(native_country_dict)\n",
    "test['native-country']=test['native-country'].map(native_country_dict)"
   ]
  },
  {
   "cell_type": "markdown",
   "id": "540b9e97",
   "metadata": {},
   "source": []
  },
  {
   "cell_type": "markdown",
   "id": "901b355c",
   "metadata": {},
   "source": []
  },
  {
   "cell_type": "markdown",
   "id": "00ec96ef",
   "metadata": {},
   "source": []
  },
  {
   "cell_type": "code",
   "execution_count": 20,
   "id": "be4f6152",
   "metadata": {},
   "outputs": [],
   "source": [
    "# 문제/답 분리\n",
    "X_train = train.loc[:,:'capital']\n",
    "y_train = train['income']"
   ]
  },
  {
   "cell_type": "code",
   "execution_count": 21,
   "id": "f346871e",
   "metadata": {},
   "outputs": [],
   "source": [
    "X_train = pd.get_dummies(X_train)\n",
    "X_test = pd.get_dummies(test)"
   ]
  },
  {
   "cell_type": "code",
   "execution_count": 22,
   "id": "2274802a",
   "metadata": {},
   "outputs": [],
   "source": [
    "from sklearn.neighbors import KNeighborsClassifier\n",
    "from sklearn.tree import DecisionTreeClassifier\n",
    "from sklearn.model_selection import cross_val_score\n",
    "from sklearn.preprocessing import MinMaxScaler\n",
    "from sklearn.ensemble import VotingClassifier\n",
    "from sklearn.ensemble import RandomForestClassifier\n",
    "from sklearn.ensemble import AdaBoostClassifier\n"
   ]
  },
  {
   "cell_type": "code",
   "execution_count": 23,
   "id": "0819192b",
   "metadata": {},
   "outputs": [],
   "source": [
    "mm_scaler = MinMaxScaler()\n",
    "mm_scaler.fit(X_train)\n",
    "mm_transform_X_train = mm_scaler.transform(X_train)\n",
    "X_train = pd.DataFrame(mm_transform_X_train, columns=X_train.columns)\n",
    "mm_transform_X_test = mm_scaler.transform(X_test)\n",
    "_X_test = pd.DataFrame(mm_transform_X_test, columns=X_test.columns)"
   ]
  },
  {
   "cell_type": "code",
   "execution_count": 24,
   "id": "f25a152a",
   "metadata": {},
   "outputs": [
    {
     "name": "stdout",
     "output_type": "stream",
     "text": [
      "0.8260023886708753\n"
     ]
    }
   ],
   "source": [
    "knn_model = KNeighborsClassifier(n_neighbors=5)\n",
    "result = cross_val_score(knn_model,\n",
    "                         X_train,\n",
    "                         y_train,\n",
    "                         cv = 5)\n",
    "print(result.mean())\n",
    "knn_model.fit(X_train,y_train)\n",
    "pre = knn_model.predict(X_test)\n",
    "result = pd.read_csv('data/sample_submission.csv')\n",
    "result['income'] = pre\n",
    "result.to_csv('knn_model5.csv', index = False)"
   ]
  },
  {
   "cell_type": "code",
   "execution_count": 25,
   "id": "c1b28727",
   "metadata": {},
   "outputs": [
    {
     "name": "stdout",
     "output_type": "stream",
     "text": [
      "0.832212932946596\n"
     ]
    }
   ],
   "source": [
    "# 랜덤포레스트 모델 생성\n",
    "rf_model = RandomForestClassifier(n_estimators=1000,  # 결정트리의 개수\n",
    "                                 max_depth=5,         # 트리의 최대 깊이\n",
    "                                 min_samples_leaf=15, # 리프노드가 되기 위한 최소한의 샘플 데이터 수\n",
    "                                 max_leaf_nodes=50)   # 리프노드의 최대 개수\n",
    "result = cross_val_score(rf_model,\n",
    "                         X_train,\n",
    "                         y_train,\n",
    "                         cv = 5)\n",
    "print(result.mean())\n",
    "# 학습\n",
    "rf_model.fit(X_train, y_train)\n",
    "# 예측\n",
    "pre = rf_model.predict(X_test)\n",
    "result = pd.read_csv('data/sample_submission.csv')\n",
    "result['income'] = pre\n",
    "result.to_csv('rf_model5.csv', index = False)"
   ]
  },
  {
   "cell_type": "code",
   "execution_count": 26,
   "id": "d3081811",
   "metadata": {},
   "outputs": [
    {
     "name": "stdout",
     "output_type": "stream",
     "text": [
      "0.8438150486265142\n"
     ]
    }
   ],
   "source": [
    "# AdaBoost모델생성\n",
    "Ada_model = AdaBoostClassifier(n_estimators=100)\n",
    "result = cross_val_score(Ada_model,\n",
    "                         X_train,\n",
    "                         y_train,\n",
    "                         cv = 5)\n",
    "print(result.mean())\n",
    "# 학습\n",
    "Ada_model.fit(X_train,y_train)\n",
    "# 예측\n",
    "pre = Ada_model.predict(X_test)\n",
    "# 정답제출\n",
    "result = pd.read_csv('data/sample_submission.csv')\n",
    "result['income'] = pre\n",
    "result.to_csv('ada_model5.csv', index = False)"
   ]
  },
  {
   "cell_type": "code",
   "execution_count": 35,
   "id": "f10d3195",
   "metadata": {},
   "outputs": [
    {
     "name": "stdout",
     "output_type": "stream",
     "text": [
      "[LightGBM] [Info] Number of positive: 5636, number of negative: 17808\n",
      "[LightGBM] [Info] Auto-choosing row-wise multi-threading, the overhead of testing was 0.000708 seconds.\n",
      "You can set `force_row_wise=true` to remove the overhead.\n",
      "And if memory is not enough, you can set `force_col_wise=true`.\n",
      "[LightGBM] [Info] Total Bins 383\n",
      "[LightGBM] [Info] Number of data points in the train set: 23444, number of used features: 58\n",
      "[LightGBM] [Info] [binary:BoostFromScore]: pavg=0.240403 -> initscore=-1.150473\n",
      "[LightGBM] [Info] Start training from score -1.150473\n",
      "[LightGBM] [Info] Number of positive: 5636, number of negative: 17808\n",
      "[LightGBM] [Info] Auto-choosing row-wise multi-threading, the overhead of testing was 0.000714 seconds.\n",
      "You can set `force_row_wise=true` to remove the overhead.\n",
      "And if memory is not enough, you can set `force_col_wise=true`.\n",
      "[LightGBM] [Info] Total Bins 383\n",
      "[LightGBM] [Info] Number of data points in the train set: 23444, number of used features: 58\n",
      "[LightGBM] [Info] [binary:BoostFromScore]: pavg=0.240403 -> initscore=-1.150473\n",
      "[LightGBM] [Info] Start training from score -1.150473\n",
      "[LightGBM] [Info] Number of positive: 5636, number of negative: 17808\n",
      "[LightGBM] [Info] Auto-choosing row-wise multi-threading, the overhead of testing was 0.000674 seconds.\n",
      "You can set `force_row_wise=true` to remove the overhead.\n",
      "And if memory is not enough, you can set `force_col_wise=true`.\n",
      "[LightGBM] [Info] Total Bins 383\n",
      "[LightGBM] [Info] Number of data points in the train set: 23444, number of used features: 58\n",
      "[LightGBM] [Info] [binary:BoostFromScore]: pavg=0.240403 -> initscore=-1.150473\n",
      "[LightGBM] [Info] Start training from score -1.150473\n",
      "[LightGBM] [Info] Number of positive: 5636, number of negative: 17808\n",
      "[LightGBM] [Info] Auto-choosing row-wise multi-threading, the overhead of testing was 0.000663 seconds.\n",
      "You can set `force_row_wise=true` to remove the overhead.\n",
      "And if memory is not enough, you can set `force_col_wise=true`.\n",
      "[LightGBM] [Info] Total Bins 383\n",
      "[LightGBM] [Info] Number of data points in the train set: 23444, number of used features: 58\n",
      "[LightGBM] [Info] [binary:BoostFromScore]: pavg=0.240403 -> initscore=-1.150473\n",
      "[LightGBM] [Info] Start training from score -1.150473\n",
      "[LightGBM] [Info] Number of positive: 5636, number of negative: 17808\n",
      "[LightGBM] [Info] Auto-choosing row-wise multi-threading, the overhead of testing was 0.000729 seconds.\n",
      "You can set `force_row_wise=true` to remove the overhead.\n",
      "And if memory is not enough, you can set `force_col_wise=true`.\n",
      "[LightGBM] [Info] Total Bins 383\n",
      "[LightGBM] [Info] Number of data points in the train set: 23444, number of used features: 58\n",
      "[LightGBM] [Info] [binary:BoostFromScore]: pavg=0.240403 -> initscore=-1.150473\n",
      "[LightGBM] [Info] Start training from score -1.150473\n",
      "0.8472956833304897\n",
      "[LightGBM] [Info] Number of positive: 7045, number of negative: 22260\n",
      "[LightGBM] [Info] Auto-choosing row-wise multi-threading, the overhead of testing was 0.000874 seconds.\n",
      "You can set `force_row_wise=true` to remove the overhead.\n",
      "And if memory is not enough, you can set `force_col_wise=true`.\n",
      "[LightGBM] [Info] Total Bins 383\n",
      "[LightGBM] [Info] Number of data points in the train set: 29305, number of used features: 58\n",
      "[LightGBM] [Info] [binary:BoostFromScore]: pavg=0.240403 -> initscore=-1.150473\n",
      "[LightGBM] [Info] Start training from score -1.150473\n"
     ]
    }
   ],
   "source": [
    "from lightgbm import LGBMClassifier\n",
    "lgbm_model = LGBMClassifier()\n",
    "result = cross_val_score(lgbm_model,\n",
    "                         X_train,\n",
    "                         y_train,\n",
    "                         cv = 5)\n",
    "print(result.mean())\n",
    "\n",
    "lgbm_model.fit(X_train, y_train)\n",
    "pre = lgbm_model.predict(X_test)\n",
    "# 정답제출\n",
    "result = pd.read_csv('data/sample_submission.csv')\n",
    "result['income'] = pre\n",
    "result.to_csv('lgbm_model1.csv', index = False)"
   ]
  },
  {
   "cell_type": "code",
   "execution_count": 36,
   "id": "edf0bf42",
   "metadata": {},
   "outputs": [
    {
     "ename": "ModuleNotFoundError",
     "evalue": "No module named 'catboost'",
     "output_type": "error",
     "traceback": [
      "\u001b[1;31m---------------------------------------------------------------------------\u001b[0m",
      "\u001b[1;31mModuleNotFoundError\u001b[0m                       Traceback (most recent call last)",
      "Cell \u001b[1;32mIn[36], line 1\u001b[0m\n\u001b[1;32m----> 1\u001b[0m \u001b[38;5;28;01mfrom\u001b[39;00m \u001b[38;5;21;01mcatboost\u001b[39;00m \u001b[38;5;28;01mimport\u001b[39;00m CatBoostClassifier\n\u001b[0;32m      2\u001b[0m cb_model \u001b[38;5;241m=\u001b[39m CatBoostClassifier(verbose \u001b[38;5;241m=\u001b[39m \u001b[38;5;241m200\u001b[39m)\n\u001b[0;32m      3\u001b[0m result \u001b[38;5;241m=\u001b[39m cross_val_score(cb_model,\n\u001b[0;32m      4\u001b[0m                          X_train,\n\u001b[0;32m      5\u001b[0m                          y_train,\n\u001b[0;32m      6\u001b[0m                          cv \u001b[38;5;241m=\u001b[39m \u001b[38;5;241m5\u001b[39m)\n",
      "\u001b[1;31mModuleNotFoundError\u001b[0m: No module named 'catboost'"
     ]
    }
   ],
   "source": [
    "from catboost import CatBoostClassifier\n",
    "cb_model = CatBoostClassifier(verbose = 200)\n",
    "result = cross_val_score(cb_model,\n",
    "                         X_train,\n",
    "                         y_train,\n",
    "                         cv = 5)\n",
    "print(result.mean())\n",
    "cb_model.fit(X_train, y_train)\n",
    "pre = cb_model.predict(X_test)\n",
    "# 정답제출\n",
    "result = pd.read_csv('data/sample_submission.csv')\n",
    "result['income'] = pre\n",
    "result.to_csv('cb_model1.csv', index = False)"
   ]
  },
  {
   "cell_type": "code",
   "execution_count": null,
   "id": "0cba22e2",
   "metadata": {},
   "outputs": [],
   "source": [
    "voting_model = VotingClassifier(\n",
    "                    estimators=[\n",
    "                        ('Ada',Ada_model),\n",
    "                        ('rf',rf_model),\n",
    "                        ('lgbm',lgbm_model)\n",
    "                    ],\n",
    "                    voting='soft'\n",
    "                )\n",
    "result = cross_val_score(voting_model,\n",
    "                         X_train,\n",
    "                         y_train,\n",
    "                         cv = 5)\n",
    "print(result.mean())\n",
    "\n",
    "# 학습\n",
    "voting_model.fit(X_train,y_train)\n",
    "# 예측\n",
    "pre = voting_model.predict(X_test)\n",
    "# 정답제출\n",
    "result = pd.read_csv('data/sample_submission.csv')\n",
    "result['income'] = pre\n",
    "result.to_csv('voting_model5.csv', index = False)"
   ]
  },
  {
   "cell_type": "code",
   "execution_count": null,
   "id": "a1db3d22",
   "metadata": {},
   "outputs": [],
   "source": []
  },
  {
   "cell_type": "code",
   "execution_count": null,
   "id": "f0b83fe9",
   "metadata": {},
   "outputs": [],
   "source": []
  },
  {
   "cell_type": "code",
   "execution_count": 29,
   "id": "3df3c561",
   "metadata": {},
   "outputs": [
    {
     "name": "stdout",
     "output_type": "stream",
     "text": [
      "Collecting lightgbm\n",
      "  Downloading lightgbm-4.1.0-py3-none-win_amd64.whl (1.3 MB)\n",
      "                                              0.0/1.3 MB ? eta -:--:--\n",
      "     ---------------------------------------  1.3/1.3 MB 40.6 MB/s eta 0:00:01\n",
      "     ---------------------------------------- 1.3/1.3 MB 40.8 MB/s eta 0:00:00\n",
      "Requirement already satisfied: numpy in c:\\users\\rlarn\\anaconda3\\lib\\site-packages (from lightgbm) (1.24.3)\n",
      "Requirement already satisfied: scipy in c:\\users\\rlarn\\anaconda3\\lib\\site-packages (from lightgbm) (1.10.1)\n",
      "Installing collected packages: lightgbm\n",
      "Successfully installed lightgbm-4.1.0\n",
      "Note: you may need to restart the kernel to use updated packages.\n"
     ]
    }
   ],
   "source": [
    "pip install lightgbm"
   ]
  },
  {
   "cell_type": "code",
   "execution_count": 37,
   "id": "6d2e22a3",
   "metadata": {},
   "outputs": [
    {
     "name": "stdout",
     "output_type": "stream",
     "text": [
      "Collecting catboost\n",
      "  Downloading catboost-1.2.2-cp311-cp311-win_amd64.whl (101.0 MB)\n",
      "                                              0.0/101.0 MB ? eta -:--:--\n",
      "                                             2.0/101.0 MB 64.7 MB/s eta 0:00:02\n",
      "     -                                       3.1/101.0 MB 66.7 MB/s eta 0:00:02\n",
      "     -                                       3.1/101.0 MB 66.7 MB/s eta 0:00:02\n",
      "     --                                      6.2/101.0 MB 36.1 MB/s eta 0:00:03\n",
      "     ----                                   12.6/101.0 MB 59.5 MB/s eta 0:00:02\n",
      "     ------                                18.0/101.0 MB 131.2 MB/s eta 0:00:01\n",
      "     --------                              23.0/101.0 MB 110.0 MB/s eta 0:00:01\n",
      "     ----------                            28.3/101.0 MB 131.2 MB/s eta 0:00:01\n",
      "     ------------                          33.5/101.0 MB 131.2 MB/s eta 0:00:01\n",
      "     --------------                        38.7/101.0 MB 108.8 MB/s eta 0:00:01\n",
      "     ----------------                      44.0/101.0 MB 131.2 MB/s eta 0:00:01\n",
      "     ------------------                    49.2/101.0 MB 131.2 MB/s eta 0:00:01\n",
      "     -------------------                   54.6/101.0 MB 129.5 MB/s eta 0:00:01\n",
      "     ---------------------                 59.9/101.0 MB 131.2 MB/s eta 0:00:01\n",
      "     -----------------------               65.1/101.0 MB 131.2 MB/s eta 0:00:01\n",
      "     -------------------------             69.2/101.0 MB 108.8 MB/s eta 0:00:01\n",
      "     --------------------------             70.1/101.0 MB 81.8 MB/s eta 0:00:01\n",
      "     ---------------------------            74.0/101.0 MB 72.6 MB/s eta 0:00:01\n",
      "     -----------------------------          79.2/101.0 MB 72.6 MB/s eta 0:00:01\n",
      "     ------------------------------        84.4/101.0 MB 131.2 MB/s eta 0:00:01\n",
      "     --------------------------------      89.6/101.0 MB 129.5 MB/s eta 0:00:01\n",
      "     ----------------------------------    94.9/101.0 MB 131.2 MB/s eta 0:00:01\n",
      "     -----------------------------------  100.1/101.0 MB 131.2 MB/s eta 0:00:01\n",
      "     -----------------------------------  101.0/101.0 MB 108.8 MB/s eta 0:00:01\n",
      "     -----------------------------------  101.0/101.0 MB 108.8 MB/s eta 0:00:01\n",
      "     -----------------------------------  101.0/101.0 MB 108.8 MB/s eta 0:00:01\n",
      "     ------------------------------------- 101.0/101.0 MB 34.4 MB/s eta 0:00:00\n",
      "Collecting graphviz (from catboost)\n",
      "  Downloading graphviz-0.20.1-py3-none-any.whl (47 kB)\n",
      "                                              0.0/47.0 kB ? eta -:--:--\n",
      "     ---------------------------------------- 47.0/47.0 kB ? eta 0:00:00\n",
      "Requirement already satisfied: matplotlib in c:\\users\\rlarn\\anaconda3\\lib\\site-packages (from catboost) (3.7.1)\n",
      "Requirement already satisfied: numpy>=1.16.0 in c:\\users\\rlarn\\anaconda3\\lib\\site-packages (from catboost) (1.24.3)\n",
      "Requirement already satisfied: pandas>=0.24 in c:\\users\\rlarn\\anaconda3\\lib\\site-packages (from catboost) (1.5.3)\n",
      "Requirement already satisfied: scipy in c:\\users\\rlarn\\anaconda3\\lib\\site-packages (from catboost) (1.10.1)\n",
      "Requirement already satisfied: plotly in c:\\users\\rlarn\\anaconda3\\lib\\site-packages (from catboost) (5.9.0)\n",
      "Requirement already satisfied: six in c:\\users\\rlarn\\anaconda3\\lib\\site-packages (from catboost) (1.16.0)\n",
      "Requirement already satisfied: python-dateutil>=2.8.1 in c:\\users\\rlarn\\anaconda3\\lib\\site-packages (from pandas>=0.24->catboost) (2.8.2)\n",
      "Requirement already satisfied: pytz>=2020.1 in c:\\users\\rlarn\\anaconda3\\lib\\site-packages (from pandas>=0.24->catboost) (2022.7)\n",
      "Requirement already satisfied: contourpy>=1.0.1 in c:\\users\\rlarn\\anaconda3\\lib\\site-packages (from matplotlib->catboost) (1.0.5)\n",
      "Requirement already satisfied: cycler>=0.10 in c:\\users\\rlarn\\anaconda3\\lib\\site-packages (from matplotlib->catboost) (0.11.0)\n",
      "Requirement already satisfied: fonttools>=4.22.0 in c:\\users\\rlarn\\anaconda3\\lib\\site-packages (from matplotlib->catboost) (4.25.0)\n",
      "Requirement already satisfied: kiwisolver>=1.0.1 in c:\\users\\rlarn\\anaconda3\\lib\\site-packages (from matplotlib->catboost) (1.4.4)\n",
      "Requirement already satisfied: packaging>=20.0 in c:\\users\\rlarn\\anaconda3\\lib\\site-packages (from matplotlib->catboost) (23.0)\n",
      "Requirement already satisfied: pillow>=6.2.0 in c:\\users\\rlarn\\anaconda3\\lib\\site-packages (from matplotlib->catboost) (9.4.0)\n",
      "Requirement already satisfied: pyparsing>=2.3.1 in c:\\users\\rlarn\\anaconda3\\lib\\site-packages (from matplotlib->catboost) (3.0.9)\n",
      "Requirement already satisfied: tenacity>=6.2.0 in c:\\users\\rlarn\\anaconda3\\lib\\site-packages (from plotly->catboost) (8.2.2)\n",
      "Installing collected packages: graphviz, catboost\n",
      "Successfully installed catboost-1.2.2 graphviz-0.20.1\n",
      "Note: you may need to restart the kernel to use updated packages.\n"
     ]
    }
   ],
   "source": [
    "pip install catboost"
   ]
  },
  {
   "cell_type": "code",
   "execution_count": null,
   "id": "ec762e31",
   "metadata": {},
   "outputs": [],
   "source": []
  }
 ],
 "metadata": {
  "kernelspec": {
   "display_name": "Python 3 (ipykernel)",
   "language": "python",
   "name": "python3"
  },
  "language_info": {
   "codemirror_mode": {
    "name": "ipython",
    "version": 3
   },
   "file_extension": ".py",
   "mimetype": "text/x-python",
   "name": "python",
   "nbconvert_exporter": "python",
   "pygments_lexer": "ipython3",
   "version": "3.11.3"
  }
 },
 "nbformat": 4,
 "nbformat_minor": 5
}
