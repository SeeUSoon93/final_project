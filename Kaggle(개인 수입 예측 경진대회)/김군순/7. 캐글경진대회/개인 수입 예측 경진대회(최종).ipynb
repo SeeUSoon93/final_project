{
 "cells": [
  {
   "cell_type": "code",
   "execution_count": 1,
   "id": "067c0322",
   "metadata": {},
   "outputs": [],
   "source": [
    "# 사용할 라이브러리 불러오기\n",
    "import numpy as np\n",
    "import pandas as pd\n",
    "import matplotlib.pyplot as plt\n",
    "import seaborn as sns\n",
    "\n",
    "# 시각화 전 기본 세팅\n",
    "#한글 깨짐\n",
    "plt.rc(\"font\", family=\"Malgun Gothic\")"
   ]
  },
  {
   "cell_type": "code",
   "execution_count": 2,
   "id": "b178864b",
   "metadata": {},
   "outputs": [],
   "source": [
    "# 파일 불러오기\n",
    "sample_submission = pd.read_csv('data/sample_submission.csv', index_col='no')\n",
    "test = pd.read_csv('data/test.csv', index_col='no')\n",
    "train = pd.read_csv('data/train.csv', index_col='no')"
   ]
  },
  {
   "cell_type": "markdown",
   "id": "6ea978e4",
   "metadata": {},
   "source": [
    "## 예측할 값 : 개인 소득\n",
    "- income : 50K 초과는 1, 50K 이하는 0 (소득)"
   ]
  },
  {
   "cell_type": "markdown",
   "id": "2bc66511",
   "metadata": {},
   "source": [
    "### 컬럼 의미\n",
    "- age - continuous.\n",
    "- workclass(일 유형) : Private, Self-emp-not-inc, Self-emp-inc, Federal-gov, Local-gov, State-gov, Without-pay, Never-worked.\n",
    "- fnlwgt(일련의 관측 결과를 바탕으로 인구조사국이 부여하는 개인의 가중치): continuous.\n",
    "- education(교육수준) : Bachelors, Some-college, 11th, HS-grad, Prof-school, Assoc-acdm, Assoc-voc, 9th, 7th-8th, 12th, Masters, 1st-4th, 10th, Doctorate, 5th-6th, Preschool.\n",
    "- education-num(교육수준 번호) : continuous.\n",
    "- marital-status(결혼 상태) : Married-civ-spouse, Divorced, Never-married, Separated, Widowed, Married-spouse-absent, Married-AF-spouse.\n",
    "- occupation(직업) : Tech-support, Craft-repair, Other-service, Sales, Exec-managerial, Prof-specialty, Handlers-cleaners, Machine-op-inspct, Adm-clerical, Farming-fishing, Transport-moving, Priv-house-serv, Protective-serv, Armed-Forces.\n",
    "- relationship(가족관계) : Wife, Own-child, Husband, Not-in-family, Other-relative, Unmarried.\n",
    "- race(인종) : White, Asian-Pac-Islander, Amer-Indian-Eskimo, Other, Black.\n",
    "- sex(성별) : Female, Male.\n",
    "- capital-gain(자본 이익) : continuous.\n",
    "- capital-loss(자본 손실) : continuous.\n",
    "- hours-per-week(주당 근무 시간) : continuous.\n",
    "- native-country(국적) : United-States, Cambodia, England, Puerto-Rico, Canada, Germany, Outlying-US(Guam-USVI-etc), India, Japan, Greece, South, China, Cuba, Iran, Honduras, Philippines, Italy, Poland, Jamaica, Vietnam, Mexico, Portugal, Ireland, France, Dominican-Republic, Laos, Ecuador, Taiwan, Haiti, Columbia, Hungary, Guatemala, Nicaragua, Scotland, Thailand, Yugoslavia, El-Salvador, Trinadad&Tobago, Peru, Hong, Holand-Netherlands."
   ]
  },
  {
   "cell_type": "markdown",
   "id": "ee20e888",
   "metadata": {},
   "source": [
    "### value값 띄어쓰기 제거"
   ]
  },
  {
   "cell_type": "code",
   "execution_count": 3,
   "id": "f264a463",
   "metadata": {},
   "outputs": [],
   "source": [
    "# 띄어쓰기 제거함\n",
    "for i in train.columns : \n",
    "    if train[f'{i}'].dtype == 'object' :\n",
    "        train[f'{i}'] = train[f'{i}'].apply(lambda x: x.replace(' ', '')) # 제거하는 함수\n",
    "    else :\n",
    "        train[f'{i}'] = train[f'{i}']\n",
    "        \n",
    "for i in test.columns : \n",
    "    if test[f'{i}'].dtype == 'object' :\n",
    "        test[f'{i}'] = test[f'{i}'].apply(lambda x: x.replace(' ', '')) # 제거하는 함수\n",
    "    else :\n",
    "        test[f'{i}'] = test[f'{i}']"
   ]
  },
  {
   "cell_type": "code",
   "execution_count": 4,
   "id": "91cb8e53",
   "metadata": {},
   "outputs": [],
   "source": [
    "title=['Private', 'Self-emp-not-inc', 'Local-gov', '?',\n",
    "       'State-gov', 'Self-emp-inc','Federal-gov','Without-pay','Never-worked']\n",
    "cover_title=['Private', 'Self-emp-not-inc', 'Local-gov', 'Never-worked',\n",
    "       'State-gov', 'Self-emp-inc','Federal-gov','Without-pay','Never-worked']\n",
    "title_dict = dict(zip(title, cover_title))\n",
    "title_dict\n",
    "train['workclass'] = train['workclass'].map(title_dict)\n",
    "test['workclass'] =test['workclass'].map(title_dict)"
   ]
  },
  {
   "cell_type": "code",
   "execution_count": 5,
   "id": "88bd1491",
   "metadata": {},
   "outputs": [],
   "source": [
    "title=['United-States', 'Haiti', 'Mexico', 'Puerto-Rico', 'Philippines',\n",
    "       '?', 'Germany', 'Peru', 'Ecuador', 'Iran', 'Thailand',\n",
    "       'Dominican-Republic', 'Poland', 'Scotland', 'Italy', 'Jamaica',\n",
    "       'China', 'Portugal', 'Columbia', 'Hungary', 'Vietnam', 'Taiwan',\n",
    "       'Canada', 'Hong', 'Guatemala', 'El-Salvador', 'England',\n",
    "       'Outlying-US(Guam-USVI-etc)', 'India', 'France', 'Cuba', 'Greece',\n",
    "       'Trinadad&Tobago', 'South', 'Japan', 'Yugoslavia', 'Nicaragua',\n",
    "       'Ireland', 'Cambodia', 'Laos', 'Honduras', 'Holand-Netherlands']\n",
    "cover_title=['United-States', 'Haiti', 'Mexico', 'Puerto-Rico', 'Philippines',\n",
    "       'United-States', 'Germany', 'Peru', 'Ecuador', 'Iran', 'Thailand',\n",
    "       'Dominican-Republic', 'Poland', 'Scotland', 'Italy', 'Jamaica',\n",
    "       'China', 'Portugal', 'Columbia', 'Hungary', 'Vietnam', 'Taiwan',\n",
    "       'Canada', 'Hong', 'Guatemala', 'El-Salvador', 'England',\n",
    "       'Outlying-US(Guam-USVI-etc)', 'India', 'France', 'Cuba', 'Greece',\n",
    "       'Trinadad&Tobago', 'South', 'Japan', 'Yugoslavia', 'Nicaragua',\n",
    "       'Ireland', 'Cambodia', 'Laos', 'Honduras', 'Holand-Netherlands']\n",
    "title_dict = dict(zip(title, cover_title))\n",
    "title_dict\n",
    "train['native-country'] = train['native-country'].map(title_dict)\n",
    "\n",
    "test['native-country'] = test['native-country'].map(title_dict)"
   ]
  },
  {
   "cell_type": "code",
   "execution_count": 6,
   "id": "69e1fa92",
   "metadata": {},
   "outputs": [],
   "source": [
    "title=['Machine-op-inspct', 'Other-service', 'Handlers-cleaners',\n",
    "       'Tech-support', 'Transport-moving', 'Farming-fishing',\n",
    "       'Prof-specialty', 'Priv-house-serv', 'Adm-clerical',\n",
    "       'Protective-serv', 'Exec-managerial', '?', 'Craft-repair', 'Sales',\n",
    "       'Armed-Forces']\n",
    "cover_title=['Machine-op-inspct', 'Other-service', 'Handlers-cleaners',\n",
    "       'Tech-support', 'Transport-moving', 'Farming-fishing',\n",
    "       'Prof-specialty', 'Priv-house-serv', 'Adm-clerical',\n",
    "       'Protective-serv', 'Exec-managerial', '?', 'Craft-repair', 'Sales',\n",
    "       'Armed-Forces']\n",
    "title_dict = dict(zip(title, cover_title))\n",
    "title_dict\n",
    "train['occupation'] = train['occupation'].map(title_dict)\n",
    "test['occupation'] = test['occupation'].map(title_dict)"
   ]
  },
  {
   "cell_type": "code",
   "execution_count": 7,
   "id": "d23ee4c7",
   "metadata": {},
   "outputs": [],
   "source": [
    "train = train.drop('education',axis=1)\n",
    "test = test.drop('education',axis=1)"
   ]
  },
  {
   "cell_type": "code",
   "execution_count": 8,
   "id": "b222557d",
   "metadata": {},
   "outputs": [],
   "source": [
    "marital_status = ['Divorced', 'Never-married', 'Married-civ-spouse', 'Separated',\n",
    "       'Married-spouse-absent', 'Widowed', 'Married-AF-spouse']\n",
    "conver_marital_status = ['not-married', 'not-married', 'married', 'not-married', 'not-married', 'not-married','married']\n",
    "marital_status_dict=dict(zip(marital_status, conver_marital_status))\n",
    "\n",
    "train['marital-status']=train['marital-status'].map(marital_status_dict)\n",
    "test['marital-status']=test['marital-status'].map(marital_status_dict)"
   ]
  },
  {
   "cell_type": "code",
   "execution_count": 9,
   "id": "5ac87835",
   "metadata": {},
   "outputs": [],
   "source": [
    "train['relationship'].unique()\n",
    "title=['Not-in-family', 'Husband', 'Unmarried', 'Other-relative',\n",
    "       'Own-child', 'Wife']\n",
    "cover_title=['Not-in-family', 'Married', 'Unmarried', 'Other-relative',\n",
    "       'Own-child', 'Married']\n",
    "title_dict = dict(zip(title, cover_title))\n",
    "train['relationship'] = train['relationship'].map(title_dict)\n",
    "\n",
    "title=['Own-child', 'Wife', 'Husband', 'Not-in-family', 'Unmarried',\n",
    "       'Other-relative']\n",
    "cover_title=['Own-child', 'Married', 'Married', 'Not-in-family', 'Unmarried',\n",
    "       'Other-relative']\n",
    "title_dict = dict(zip(title, cover_title))\n",
    "test['relationship'] = test['relationship'].map(title_dict)"
   ]
  },
  {
   "cell_type": "code",
   "execution_count": 10,
   "id": "71651442",
   "metadata": {},
   "outputs": [
    {
     "data": {
      "text/plain": [
       "\"bins = [0,4,8,12,16] # 범위지정\\nlabels = ['e1', 'e2', 'e3', 'e4'] # 라벨지정\\ntrain['education-num'] = pd.cut(train['education-num'], bins=bins, labels = labels)\\ntest['education-num'] = pd.cut(test['education-num'], bins=bins, labels=labels)\""
      ]
     },
     "execution_count": 10,
     "metadata": {},
     "output_type": "execute_result"
    }
   ],
   "source": [
    "\"\"\"bins = [0,4,8,12,16] # 범위지정\n",
    "labels = ['e1', 'e2', 'e3', 'e4'] # 라벨지정\n",
    "train['education-num'] = pd.cut(train['education-num'], bins=bins, labels = labels)\n",
    "test['education-num'] = pd.cut(test['education-num'], bins=bins, labels=labels)\"\"\""
   ]
  },
  {
   "cell_type": "code",
   "execution_count": 11,
   "id": "b76a6fc1",
   "metadata": {},
   "outputs": [
    {
     "data": {
      "text/plain": [
       "\"bins = [i for i in range(0, 101,10)]\\nlabels = ['age' + str(i) for i in range(0, 100,10)] # 라벨지정\\ntrain['age'] = pd.cut(train['age'], bins=bins, labels = labels)\\ntest['age'] = pd.cut(test['age'], bins=bins, labels=labels)\""
      ]
     },
     "execution_count": 11,
     "metadata": {},
     "output_type": "execute_result"
    }
   ],
   "source": [
    "\"\"\"bins = [i for i in range(0, 101,10)]\n",
    "labels = ['age' + str(i) for i in range(0, 100,10)] # 라벨지정\n",
    "train['age'] = pd.cut(train['age'], bins=bins, labels = labels)\n",
    "test['age'] = pd.cut(test['age'], bins=bins, labels=labels)\"\"\""
   ]
  },
  {
   "cell_type": "code",
   "execution_count": 12,
   "id": "28bd38d5",
   "metadata": {},
   "outputs": [],
   "source": [
    "title=['Private', 'Self-emp-not-inc', 'Local-gov', 'State-gov',\n",
    "       'Self-emp-inc', 'Federal-gov', 'Without-pay', 'Never-worked']\n",
    "cover_title=['Private', 'Self-emp', 'gov', 'gov',\n",
    "       'Self-emp', 'gov', 'beggar', 'beggar']\n",
    "title_dict = dict(zip(title, cover_title))\n",
    "train['workclass'] = train['workclass'].map(title_dict)\n",
    "test['workclass'] = test['workclass'].map(title_dict)"
   ]
  },
  {
   "cell_type": "code",
   "execution_count": 13,
   "id": "45470ef7",
   "metadata": {},
   "outputs": [],
   "source": [
    "native_country = ['United-States', 'Haiti', 'Mexico', 'Puerto-Rico', 'Philippines',\n",
    "       'Germany', 'Peru', 'Ecuador', 'Iran', 'Thailand',\n",
    "       'Dominican-Republic', 'Poland', 'Scotland', 'Italy', 'Jamaica',\n",
    "       'China', 'Columbia', 'Hungary', 'Portugal', 'Vietnam', 'Taiwan',\n",
    "       'Canada', 'Hong', 'Guatemala', 'El-Salvador', 'England',\n",
    "       'Outlying-US(Guam-USVI-etc)', 'India', 'France', 'Cuba', 'Greece',\n",
    "       'Trinadad&Tobago', 'South', 'Japan', 'Yugoslavia', 'Nicaragua',\n",
    "       'Ireland', 'Cambodia', 'Laos', 'Honduras', 'Holand-Netherlands']\n",
    "conver_native_country = ['United-State', 'North-America', 'North-America', 'North-America', 'Asia',\n",
    "                        'Europe', 'South-America', 'South-America', 'Asia', 'Asia',\n",
    "                        'North-America', 'Europe', 'Europe', 'Europe', 'North-America',\n",
    "                        'Asia', 'South-America', 'Europe', 'Europe', 'Asia', 'Asia',\n",
    "                        'North-America', 'Asia', 'North-America', 'North-America', 'Europe',\n",
    "                        'North-America', 'Asia', 'Europe', 'North-America', 'Europe',\n",
    "                        'South-America', 'Asia', 'Asia', 'Europe', 'North-America',\n",
    "                        'Europe', 'Asia', 'Asia', 'North-America', 'Europe']\n",
    "\n",
    "native_country_dict = dict(zip(native_country, conver_native_country))\n",
    "native_country_dict\n",
    "train['native-country']=train['native-country'].map(native_country_dict)\n",
    "test['native-country']=test['native-country'].map(native_country_dict)"
   ]
  },
  {
   "cell_type": "code",
   "execution_count": 14,
   "id": "05521e8c",
   "metadata": {},
   "outputs": [
    {
     "data": {
      "text/plain": [
       "United-State     26796\n",
       "North-America     1282\n",
       "Asia               657\n",
       "Europe             458\n",
       "South-America      112\n",
       "Name: native-country, dtype: int64"
      ]
     },
     "execution_count": 14,
     "metadata": {},
     "output_type": "execute_result"
    }
   ],
   "source": [
    "train['native-country'].value_counts()"
   ]
  },
  {
   "cell_type": "code",
   "execution_count": 15,
   "id": "c18e6aa6",
   "metadata": {},
   "outputs": [],
   "source": [
    "train = train.drop('fnlwgt',axis=1)\n",
    "test= test.drop('fnlwgt',axis=1)"
   ]
  },
  {
   "cell_type": "markdown",
   "id": "6b59a913",
   "metadata": {},
   "source": [
    "- 컬럼순서 바꾸기"
   ]
  },
  {
   "cell_type": "code",
   "execution_count": 16,
   "id": "85f163ef",
   "metadata": {},
   "outputs": [],
   "source": [
    "# 문제/답 분리\n",
    "X_train = train.loc[:,:'native-country']\n",
    "y_train = train['income']"
   ]
  },
  {
   "cell_type": "code",
   "execution_count": 17,
   "id": "6443dbc7",
   "metadata": {},
   "outputs": [],
   "source": [
    "X_train = pd.get_dummies(X_train) # 0과 1로만 이루어진 열을 생성\n",
    "X_test = pd.get_dummies(test)"
   ]
  },
  {
   "cell_type": "code",
   "execution_count": 18,
   "id": "c612cfe5",
   "metadata": {},
   "outputs": [],
   "source": [
    "from sklearn.preprocessing import StandardScaler\n",
    "scaler =StandardScaler()\n",
    "scaler.fit(X_train)\n",
    "st_transform_X_train =scaler.transform(X_train)\n",
    "X_train = pd.DataFrame(st_transform_X_train, columns=X_train.columns)\n",
    "st_transform_X_test =scaler.transform(X_test)\n",
    "X_test = pd.DataFrame(st_transform_X_test, columns=X_test.columns)"
   ]
  },
  {
   "cell_type": "code",
   "execution_count": 19,
   "id": "de9f2720",
   "metadata": {},
   "outputs": [],
   "source": [
    "from sklearn.neighbors import KNeighborsClassifier\n",
    "from sklearn.tree import DecisionTreeClassifier\n",
    "from sklearn.model_selection import cross_val_score\n",
    "from sklearn.ensemble import VotingClassifier\n",
    "from sklearn.ensemble import RandomForestClassifier\n",
    "from sklearn.ensemble import AdaBoostClassifier\n",
    "from sklearn.model_selection import GridSearchCV\n",
    "from sklearn.ensemble import GradientBoostingClassifier\n",
    "from sklearn.linear_model import LogisticRegression\n",
    "from lightgbm import LGBMClassifier\n",
    "from xgboost import XGBClassifier\n",
    "from catboost import CatBoostClassifier"
   ]
  },
  {
   "cell_type": "markdown",
   "id": "dd924bbd",
   "metadata": {},
   "source": [
    "그리드 서치"
   ]
  },
  {
   "cell_type": "code",
   "execution_count": 20,
   "id": "b9ddf70b",
   "metadata": {},
   "outputs": [
    {
     "data": {
      "text/plain": [
       "\"Ada_model = AdaBoostClassifier()\\nAda_param_grid = {    \\n    'n_estimators' : [50,150,250],\\n    'learning_rate' : [0.5,1]\\n}\\nAda_grid = GridSearchCV(Ada_model,\\n                        Ada_param_grid,\\n                        cv = 3)\\nAda_grid.fit(X_train,y_train)\\n# best_score_ 메서드\\nprint(Ada_grid.best_score_)\\n# best_params_ 메서드\\nprint(Ada_grid.best_params_)\""
      ]
     },
     "execution_count": 20,
     "metadata": {},
     "output_type": "execute_result"
    }
   ],
   "source": [
    "\"\"\"Ada_model = AdaBoostClassifier()\n",
    "Ada_param_grid = {    \n",
    "    'n_estimators' : [50,150,250],\n",
    "    'learning_rate' : [0.5,1]\n",
    "}\n",
    "Ada_grid = GridSearchCV(Ada_model,\n",
    "                        Ada_param_grid,\n",
    "                        cv = 3)\n",
    "Ada_grid.fit(X_train,y_train)\n",
    "# best_score_ 메서드\n",
    "print(Ada_grid.best_score_)\n",
    "# best_params_ 메서드\n",
    "print(Ada_grid.best_params_)\"\"\""
   ]
  },
  {
   "cell_type": "code",
   "execution_count": 21,
   "id": "12803ceb",
   "metadata": {},
   "outputs": [
    {
     "data": {
      "text/plain": [
       "\"lgbm = LGBMClassifier()\\n\\nparams = {\\n    'boosting_type': ['gbdt', 'dart'], # defalt 'gbdt'\\n    'num_leaves': [20, 31, 50, 70], # default 31\\n    'max_depth': [-1, 5, 7, 10, 15, 20, 30], # default -1. 끝까지 만드는 것\\n    'learning_rate': [0.001, 0.01, 0.05, 0.1], # defaut 0.1\\n}\\n\\nlgbm_grid_cv = GridSearchCV(lgbm, param_grid=params, scoring='f1', n_jobs=-1, cv=5, verbose=1)\\nlgbm_grid_cv.fit(X_train,y_train)\\nprint('GridSearchCV 최고 평균 정확도 수치: {:.4f}'.format(lgbm_grid_cv.best_score_))\\nprint('GridSearchCv 최적 하이퍼 파라미터: ', lgbm_grid_cv.best_params_)\""
      ]
     },
     "execution_count": 21,
     "metadata": {},
     "output_type": "execute_result"
    }
   ],
   "source": [
    "\"\"\"lgbm = LGBMClassifier()\n",
    "\n",
    "params = {\n",
    "    'boosting_type': ['gbdt', 'dart'], # defalt 'gbdt'\n",
    "    'num_leaves': [20, 31, 50, 70], # default 31\n",
    "    'max_depth': [-1, 5, 7, 10, 15, 20, 30], # default -1. 끝까지 만드는 것\n",
    "    'learning_rate': [0.001, 0.01, 0.05, 0.1], # defaut 0.1\n",
    "}\n",
    "\n",
    "lgbm_grid_cv = GridSearchCV(lgbm, param_grid=params, scoring='f1', n_jobs=-1, cv=5, verbose=1)\n",
    "lgbm_grid_cv.fit(X_train,y_train)\n",
    "print('GridSearchCV 최고 평균 정확도 수치: {:.4f}'.format(lgbm_grid_cv.best_score_))\n",
    "print('GridSearchCv 최적 하이퍼 파라미터: ', lgbm_grid_cv.best_params_)\"\"\""
   ]
  },
  {
   "cell_type": "code",
   "execution_count": null,
   "id": "8f8c77fa",
   "metadata": {},
   "outputs": [],
   "source": []
  },
  {
   "cell_type": "code",
   "execution_count": 22,
   "id": "3f9bc85d",
   "metadata": {},
   "outputs": [],
   "source": [
    "# 그리드서치 바탕으로 하이퍼파라미터 조정\n",
    "final_Ada_model = AdaBoostClassifier(learning_rate= 1,\n",
    "                                    n_estimators = 250)\n",
    "final_Ada_model.fit(X_train,y_train)\n",
    "pre = final_Ada_model.predict(X_test)"
   ]
  },
  {
   "cell_type": "code",
   "execution_count": 23,
   "id": "21ad47c4",
   "metadata": {},
   "outputs": [
    {
     "data": {
      "text/plain": [
       "0.8665414523485975"
      ]
     },
     "execution_count": 23,
     "metadata": {},
     "output_type": "execute_result"
    }
   ],
   "source": [
    "result = cross_val_score(final_Ada_model,\n",
    "                          X_train,\n",
    "                          y_train,\n",
    "                          cv = 3)\n",
    "result.mean()"
   ]
  },
  {
   "cell_type": "code",
   "execution_count": 24,
   "id": "c224e40b",
   "metadata": {},
   "outputs": [
    {
     "name": "stdout",
     "output_type": "stream",
     "text": [
      "[LightGBM] [Info] Number of positive: 7045, number of negative: 22260\n",
      "[LightGBM] [Info] Auto-choosing row-wise multi-threading, the overhead of testing was 0.002884 seconds.\n",
      "You can set `force_row_wise=true` to remove the overhead.\n",
      "And if memory is not enough, you can set `force_col_wise=true`.\n",
      "[LightGBM] [Info] Total Bins 459\n",
      "[LightGBM] [Info] Number of data points in the train set: 29305, number of used features: 42\n",
      "[LightGBM] [Info] [binary:BoostFromScore]: pavg=0.240403 -> initscore=-1.150473\n",
      "[LightGBM] [Info] Start training from score -1.150473\n"
     ]
    }
   ],
   "source": [
    "final_lgbm_model = LGBMClassifier(learning_rate=0.01,\n",
    "                                 max_depth = 50,\n",
    "                                 n_estimators=800,\n",
    "                                 num_leaves=100)\n",
    "final_lgbm_model.fit(X_train, y_train)\n",
    "pre = final_lgbm_model.predict(X_test)\n"
   ]
  },
  {
   "cell_type": "code",
   "execution_count": 25,
   "id": "fa69f06e",
   "metadata": {},
   "outputs": [
    {
     "name": "stdout",
     "output_type": "stream",
     "text": [
      "[LightGBM] [Info] Number of positive: 4696, number of negative: 14840\n",
      "[LightGBM] [Info] Auto-choosing row-wise multi-threading, the overhead of testing was 0.002065 seconds.\n",
      "You can set `force_row_wise=true` to remove the overhead.\n",
      "And if memory is not enough, you can set `force_col_wise=true`.\n",
      "[LightGBM] [Info] Total Bins 435\n",
      "[LightGBM] [Info] Number of data points in the train set: 19536, number of used features: 42\n",
      "[LightGBM] [Info] [binary:BoostFromScore]: pavg=0.240377 -> initscore=-1.150615\n",
      "[LightGBM] [Info] Start training from score -1.150615\n",
      "[LightGBM] [Info] Number of positive: 4697, number of negative: 14840\n",
      "[LightGBM] [Info] Auto-choosing row-wise multi-threading, the overhead of testing was 0.001878 seconds.\n",
      "You can set `force_row_wise=true` to remove the overhead.\n",
      "And if memory is not enough, you can set `force_col_wise=true`.\n",
      "[LightGBM] [Info] Total Bins 436\n",
      "[LightGBM] [Info] Number of data points in the train set: 19537, number of used features: 42\n",
      "[LightGBM] [Info] [binary:BoostFromScore]: pavg=0.240416 -> initscore=-1.150402\n",
      "[LightGBM] [Info] Start training from score -1.150402\n",
      "[LightGBM] [Info] Number of positive: 4697, number of negative: 14840\n",
      "[LightGBM] [Info] Auto-choosing row-wise multi-threading, the overhead of testing was 0.001862 seconds.\n",
      "You can set `force_row_wise=true` to remove the overhead.\n",
      "And if memory is not enough, you can set `force_col_wise=true`.\n",
      "[LightGBM] [Info] Total Bins 433\n",
      "[LightGBM] [Info] Number of data points in the train set: 19537, number of used features: 42\n",
      "[LightGBM] [Info] [binary:BoostFromScore]: pavg=0.240416 -> initscore=-1.150402\n",
      "[LightGBM] [Info] Start training from score -1.150402\n"
     ]
    },
    {
     "data": {
      "text/plain": [
       "0.8662002509120944"
      ]
     },
     "execution_count": 25,
     "metadata": {},
     "output_type": "execute_result"
    }
   ],
   "source": [
    "result = cross_val_score(final_lgbm_model,\n",
    "                          X_train,\n",
    "                          y_train,\n",
    "                          cv = 3)\n",
    "result.mean()"
   ]
  },
  {
   "cell_type": "code",
   "execution_count": 26,
   "id": "88dfff24",
   "metadata": {},
   "outputs": [
    {
     "name": "stdout",
     "output_type": "stream",
     "text": [
      "Learning rate set to 0.043583\n",
      "0:\tlearn: 0.6507038\ttotal: 143ms\tremaining: 2m 22s\n",
      "100:\tlearn: 0.2938156\ttotal: 776ms\tremaining: 6.91s\n",
      "200:\tlearn: 0.2800515\ttotal: 1.41s\tremaining: 5.62s\n",
      "300:\tlearn: 0.2714029\ttotal: 2.08s\tremaining: 4.83s\n",
      "400:\tlearn: 0.2646913\ttotal: 2.69s\tremaining: 4.02s\n",
      "500:\tlearn: 0.2596707\ttotal: 3.29s\tremaining: 3.28s\n",
      "600:\tlearn: 0.2553938\ttotal: 3.98s\tremaining: 2.64s\n",
      "700:\tlearn: 0.2519130\ttotal: 4.66s\tremaining: 1.99s\n",
      "800:\tlearn: 0.2485771\ttotal: 5.27s\tremaining: 1.31s\n",
      "900:\tlearn: 0.2456461\ttotal: 5.95s\tremaining: 653ms\n",
      "999:\tlearn: 0.2426842\ttotal: 6.54s\tremaining: 0us\n"
     ]
    }
   ],
   "source": [
    "final_cb_model = CatBoostClassifier(verbose=100)\n",
    "final_cb_model.fit(X_train, y_train)\n",
    "pre = final_cb_model.predict(X_test)\n"
   ]
  },
  {
   "cell_type": "code",
   "execution_count": 27,
   "id": "b17faaa5",
   "metadata": {},
   "outputs": [
    {
     "name": "stdout",
     "output_type": "stream",
     "text": [
      "Learning rate set to 0.036654\n",
      "0:\tlearn: 0.6556915\ttotal: 5.29ms\tremaining: 5.28s\n",
      "100:\tlearn: 0.2991872\ttotal: 600ms\tremaining: 5.34s\n",
      "200:\tlearn: 0.2835026\ttotal: 1.28s\tremaining: 5.1s\n",
      "300:\tlearn: 0.2736038\ttotal: 1.84s\tremaining: 4.27s\n",
      "400:\tlearn: 0.2652770\ttotal: 2.38s\tremaining: 3.55s\n",
      "500:\tlearn: 0.2593173\ttotal: 2.94s\tremaining: 2.93s\n",
      "600:\tlearn: 0.2550572\ttotal: 3.51s\tremaining: 2.33s\n",
      "700:\tlearn: 0.2504798\ttotal: 4.05s\tremaining: 1.73s\n",
      "800:\tlearn: 0.2467878\ttotal: 4.58s\tremaining: 1.14s\n",
      "900:\tlearn: 0.2429556\ttotal: 5.16s\tremaining: 567ms\n",
      "999:\tlearn: 0.2393394\ttotal: 5.68s\tremaining: 0us\n",
      "Learning rate set to 0.036655\n",
      "0:\tlearn: 0.6567914\ttotal: 5.23ms\tremaining: 5.22s\n",
      "100:\tlearn: 0.3010942\ttotal: 554ms\tremaining: 4.93s\n",
      "200:\tlearn: 0.2861169\ttotal: 1.13s\tremaining: 4.49s\n",
      "300:\tlearn: 0.2761926\ttotal: 1.75s\tremaining: 4.06s\n",
      "400:\tlearn: 0.2676959\ttotal: 2.31s\tremaining: 3.45s\n",
      "500:\tlearn: 0.2616937\ttotal: 2.87s\tremaining: 2.86s\n",
      "600:\tlearn: 0.2569492\ttotal: 3.47s\tremaining: 2.3s\n",
      "700:\tlearn: 0.2527422\ttotal: 4.09s\tremaining: 1.75s\n",
      "800:\tlearn: 0.2490297\ttotal: 4.79s\tremaining: 1.19s\n",
      "900:\tlearn: 0.2457845\ttotal: 5.45s\tremaining: 599ms\n",
      "999:\tlearn: 0.2425969\ttotal: 6.02s\tremaining: 0us\n",
      "Learning rate set to 0.036655\n",
      "0:\tlearn: 0.6564285\ttotal: 5.9ms\tremaining: 5.9s\n",
      "100:\tlearn: 0.2936867\ttotal: 627ms\tremaining: 5.58s\n",
      "200:\tlearn: 0.2785973\ttotal: 1.28s\tremaining: 5.07s\n",
      "300:\tlearn: 0.2693320\ttotal: 1.83s\tremaining: 4.24s\n",
      "400:\tlearn: 0.2614819\ttotal: 2.41s\tremaining: 3.6s\n",
      "500:\tlearn: 0.2557243\ttotal: 3.03s\tremaining: 3.01s\n",
      "600:\tlearn: 0.2512178\ttotal: 3.6s\tremaining: 2.39s\n",
      "700:\tlearn: 0.2470580\ttotal: 4.2s\tremaining: 1.79s\n",
      "800:\tlearn: 0.2432080\ttotal: 4.78s\tremaining: 1.19s\n",
      "900:\tlearn: 0.2399400\ttotal: 5.36s\tremaining: 589ms\n",
      "999:\tlearn: 0.2363260\ttotal: 5.93s\tremaining: 0us\n"
     ]
    },
    {
     "data": {
      "text/plain": [
       "0.8704657369566777"
      ]
     },
     "execution_count": 27,
     "metadata": {},
     "output_type": "execute_result"
    }
   ],
   "source": [
    "result = cross_val_score(final_cb_model,\n",
    "                          X_train,\n",
    "                          y_train,\n",
    "                          cv = 3)\n",
    "result.mean()"
   ]
  },
  {
   "cell_type": "code",
   "execution_count": 28,
   "id": "2d758f49",
   "metadata": {},
   "outputs": [
    {
     "name": "stdout",
     "output_type": "stream",
     "text": [
      "[LightGBM] [Info] Number of positive: 7045, number of negative: 22260\n",
      "[LightGBM] [Info] Auto-choosing row-wise multi-threading, the overhead of testing was 0.002966 seconds.\n",
      "You can set `force_row_wise=true` to remove the overhead.\n",
      "And if memory is not enough, you can set `force_col_wise=true`.\n",
      "[LightGBM] [Info] Total Bins 459\n",
      "[LightGBM] [Info] Number of data points in the train set: 29305, number of used features: 42\n",
      "[LightGBM] [Info] [binary:BoostFromScore]: pavg=0.240403 -> initscore=-1.150473\n",
      "[LightGBM] [Info] Start training from score -1.150473\n",
      "Learning rate set to 0.043583\n",
      "0:\tlearn: 0.6507038\ttotal: 8.04ms\tremaining: 8.04s\n",
      "100:\tlearn: 0.2938156\ttotal: 737ms\tremaining: 6.56s\n",
      "200:\tlearn: 0.2800515\ttotal: 1.36s\tremaining: 5.41s\n",
      "300:\tlearn: 0.2714029\ttotal: 2.05s\tremaining: 4.77s\n",
      "400:\tlearn: 0.2646913\ttotal: 2.71s\tremaining: 4.04s\n",
      "500:\tlearn: 0.2596707\ttotal: 3.35s\tremaining: 3.33s\n",
      "600:\tlearn: 0.2553938\ttotal: 4.03s\tremaining: 2.67s\n",
      "700:\tlearn: 0.2519130\ttotal: 4.71s\tremaining: 2.01s\n",
      "800:\tlearn: 0.2485771\ttotal: 5.34s\tremaining: 1.32s\n",
      "900:\tlearn: 0.2456461\ttotal: 6.04s\tremaining: 664ms\n",
      "999:\tlearn: 0.2426842\ttotal: 6.69s\tremaining: 0us\n"
     ]
    }
   ],
   "source": [
    "final_voting_model = VotingClassifier(\n",
    "                        estimators=[\n",
    "                            ('final_Ada_model',final_Ada_model),\n",
    "                            ('final_lgbm_model',final_lgbm_model),\n",
    "                            ('final_cb_model',final_cb_model)\n",
    "                        ],\n",
    "                        voting='soft'\n",
    "                        )\n",
    "# 학습\n",
    "final_voting_model.fit(X_train,y_train)\n",
    "# 예측\n",
    "pre = final_voting_model.predict(X_test)\n",
    "# 정답제출\n",
    "result = pd.read_csv('data/sample_submission.csv')\n",
    "result['income'] = pre\n",
    "result.to_csv('final_voting_model82.csv', index = False)"
   ]
  },
  {
   "cell_type": "code",
   "execution_count": 29,
   "id": "98ae98d6",
   "metadata": {},
   "outputs": [
    {
     "name": "stdout",
     "output_type": "stream",
     "text": [
      "[LightGBM] [Info] Number of positive: 4696, number of negative: 14840\n",
      "[LightGBM] [Info] Auto-choosing row-wise multi-threading, the overhead of testing was 0.002021 seconds.\n",
      "You can set `force_row_wise=true` to remove the overhead.\n",
      "And if memory is not enough, you can set `force_col_wise=true`.\n",
      "[LightGBM] [Info] Total Bins 435\n",
      "[LightGBM] [Info] Number of data points in the train set: 19536, number of used features: 42\n",
      "[LightGBM] [Info] [binary:BoostFromScore]: pavg=0.240377 -> initscore=-1.150615\n",
      "[LightGBM] [Info] Start training from score -1.150615\n",
      "Learning rate set to 0.036654\n",
      "0:\tlearn: 0.6556915\ttotal: 6.08ms\tremaining: 6.08s\n",
      "100:\tlearn: 0.2991872\ttotal: 714ms\tremaining: 6.36s\n",
      "200:\tlearn: 0.2835026\ttotal: 1.31s\tremaining: 5.2s\n",
      "300:\tlearn: 0.2736038\ttotal: 1.89s\tremaining: 4.4s\n",
      "400:\tlearn: 0.2652770\ttotal: 2.48s\tremaining: 3.7s\n",
      "500:\tlearn: 0.2593173\ttotal: 3.1s\tremaining: 3.08s\n",
      "600:\tlearn: 0.2550572\ttotal: 3.64s\tremaining: 2.42s\n",
      "700:\tlearn: 0.2504798\ttotal: 4.19s\tremaining: 1.79s\n",
      "800:\tlearn: 0.2467878\ttotal: 4.86s\tremaining: 1.21s\n",
      "900:\tlearn: 0.2429556\ttotal: 5.43s\tremaining: 596ms\n",
      "999:\tlearn: 0.2393394\ttotal: 5.95s\tremaining: 0us\n",
      "[LightGBM] [Info] Number of positive: 4697, number of negative: 14840\n",
      "[LightGBM] [Info] Auto-choosing row-wise multi-threading, the overhead of testing was 0.001685 seconds.\n",
      "You can set `force_row_wise=true` to remove the overhead.\n",
      "And if memory is not enough, you can set `force_col_wise=true`.\n",
      "[LightGBM] [Info] Total Bins 436\n",
      "[LightGBM] [Info] Number of data points in the train set: 19537, number of used features: 42\n",
      "[LightGBM] [Info] [binary:BoostFromScore]: pavg=0.240416 -> initscore=-1.150402\n",
      "[LightGBM] [Info] Start training from score -1.150402\n",
      "Learning rate set to 0.036655\n",
      "0:\tlearn: 0.6567914\ttotal: 7.66ms\tremaining: 7.65s\n",
      "100:\tlearn: 0.3010942\ttotal: 837ms\tremaining: 7.45s\n",
      "200:\tlearn: 0.2861169\ttotal: 1.56s\tremaining: 6.22s\n",
      "300:\tlearn: 0.2761926\ttotal: 2.24s\tremaining: 5.2s\n",
      "400:\tlearn: 0.2676959\ttotal: 2.88s\tremaining: 4.3s\n",
      "500:\tlearn: 0.2616937\ttotal: 3.48s\tremaining: 3.46s\n",
      "600:\tlearn: 0.2569492\ttotal: 4.1s\tremaining: 2.72s\n",
      "700:\tlearn: 0.2527422\ttotal: 4.79s\tremaining: 2.04s\n",
      "800:\tlearn: 0.2490297\ttotal: 5.62s\tremaining: 1.4s\n",
      "900:\tlearn: 0.2457845\ttotal: 6.18s\tremaining: 679ms\n",
      "999:\tlearn: 0.2425969\ttotal: 6.75s\tremaining: 0us\n",
      "[LightGBM] [Info] Number of positive: 4697, number of negative: 14840\n",
      "[LightGBM] [Info] Auto-choosing row-wise multi-threading, the overhead of testing was 0.001848 seconds.\n",
      "You can set `force_row_wise=true` to remove the overhead.\n",
      "And if memory is not enough, you can set `force_col_wise=true`.\n",
      "[LightGBM] [Info] Total Bins 433\n",
      "[LightGBM] [Info] Number of data points in the train set: 19537, number of used features: 42\n",
      "[LightGBM] [Info] [binary:BoostFromScore]: pavg=0.240416 -> initscore=-1.150402\n",
      "[LightGBM] [Info] Start training from score -1.150402\n",
      "Learning rate set to 0.036655\n",
      "0:\tlearn: 0.6564285\ttotal: 7.16ms\tremaining: 7.15s\n",
      "100:\tlearn: 0.2936867\ttotal: 610ms\tremaining: 5.43s\n",
      "200:\tlearn: 0.2785973\ttotal: 1.19s\tremaining: 4.71s\n",
      "300:\tlearn: 0.2693320\ttotal: 1.81s\tremaining: 4.2s\n",
      "400:\tlearn: 0.2614819\ttotal: 2.38s\tremaining: 3.56s\n",
      "500:\tlearn: 0.2557243\ttotal: 3.03s\tremaining: 3.02s\n",
      "600:\tlearn: 0.2512178\ttotal: 3.69s\tremaining: 2.45s\n",
      "700:\tlearn: 0.2470580\ttotal: 4.24s\tremaining: 1.81s\n",
      "800:\tlearn: 0.2432080\ttotal: 4.81s\tremaining: 1.19s\n",
      "900:\tlearn: 0.2399400\ttotal: 5.39s\tremaining: 592ms\n",
      "999:\tlearn: 0.2363260\ttotal: 6.01s\tremaining: 0us\n"
     ]
    },
    {
     "data": {
      "text/plain": [
       "0.8694079167899416"
      ]
     },
     "execution_count": 29,
     "metadata": {},
     "output_type": "execute_result"
    }
   ],
   "source": [
    "result = cross_val_score(final_voting_model,\n",
    "                          X_train,\n",
    "                          y_train,\n",
    "                          cv = 3)\n",
    "result.mean()"
   ]
  },
  {
   "cell_type": "code",
   "execution_count": null,
   "id": "fcfa7da0",
   "metadata": {},
   "outputs": [],
   "source": []
  }
 ],
 "metadata": {
  "kernelspec": {
   "display_name": "Python 3 (ipykernel)",
   "language": "python",
   "name": "python3"
  },
  "language_info": {
   "codemirror_mode": {
    "name": "ipython",
    "version": 3
   },
   "file_extension": ".py",
   "mimetype": "text/x-python",
   "name": "python",
   "nbconvert_exporter": "python",
   "pygments_lexer": "ipython3",
   "version": "3.11.4"
  }
 },
 "nbformat": 4,
 "nbformat_minor": 5
}
